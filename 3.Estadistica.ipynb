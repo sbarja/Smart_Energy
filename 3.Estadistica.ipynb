{
 "cells": [
  {
   "cell_type": "markdown",
   "metadata": {},
   "source": [
    "<img src=\"Figures/top_ML.png\" alt=\"Drawing\" style=\"width: 1000px;\"/>"
   ]
  },
  {
   "cell_type": "markdown",
   "metadata": {
    "slideshow": {
     "slide_type": "slide"
    }
   },
   "source": [
    "# Estadística "
   ]
  },
  {
   "cell_type": "markdown",
   "metadata": {},
   "source": [
    "<img src=\"Figures/stats1.png\" alt=\"Drawing\" style=\"width: 600px;\"/>"
   ]
  },
  {
   "cell_type": "markdown",
   "metadata": {},
   "source": [
    "### CONTENIDOS\n",
    "* Muestra vs Población\n",
    "* Resumen y limpieza de datos\n",
    "* Estadística descriptiva\n",
    "* Probabilidad"
   ]
  },
  {
   "cell_type": "markdown",
   "metadata": {},
   "source": [
    "## 1. Muestra vs. Población\n",
    "\n",
    "Normalmente nos encontraremos en una situación donde deseamos responder preguntas sobre una *población* pero solo tenemos acceso a una *muestra*.\n",
    "\n",
    "<img src=\"Figures/Poblacion1.svg\" alt=\"Drawing\" style=\"width: 450px;\"/>\n",
    "\n",
    "La *población* se refiere a todos los individuos que son relevantes para una pregunta en concreto, mientras que una *muestra* será solo un subset de estos. Por ejemplo, todos los clientes de una companyia de distribución serán la población, mientras que para hacer un estudio a lo mejor solo usamos una muestra de ellos. A veces lo que para una pregunta es una *población*, para otra será una muestra (en nuestro ejemplo todos los clientes de una distribuidora son solo una muestra de la población de un país).\n",
    "\n",
    "<img src=\"Figures/Poblacion2.svg\" alt=\"Drawing\" style=\"width: 450px;\"/>\n",
    "\n",
    "Las poblaciones y las muestras estan formadas por varias observaciones, individuos, elementos, etc.\n",
    "\n",
    "<img src=\"Figures/Poblacion3.svg\" alt=\"Drawing\" style=\"width: 450px;\"/>\n",
    "\n",
    "Siempre que se pueda, será mejor usar la población para responder a nuestras preguntas, pero a veces esto no es posible (no se tienen todos los datos, no todos los clientes tienen un Smart meter, recopilar todos los datos en una misma fuente es difícil, etc). En estos casos usaremos una muestra. \n",
    "\n",
    "¿Qué problema conlleva esto? Veamos un ejemplo, con nuestro dataset de Londres"
   ]
  },
  {
   "cell_type": "code",
   "execution_count": 2,
   "metadata": {},
   "outputs": [
    {
     "data": {
      "text/html": [
       "<div>\n",
       "<style scoped>\n",
       "    .dataframe tbody tr th:only-of-type {\n",
       "        vertical-align: middle;\n",
       "    }\n",
       "\n",
       "    .dataframe tbody tr th {\n",
       "        vertical-align: top;\n",
       "    }\n",
       "\n",
       "    .dataframe thead th {\n",
       "        text-align: right;\n",
       "    }\n",
       "</style>\n",
       "<table border=\"1\" class=\"dataframe\">\n",
       "  <thead>\n",
       "    <tr style=\"text-align: right;\">\n",
       "      <th></th>\n",
       "      <th>LCLid</th>\n",
       "      <th>day</th>\n",
       "      <th>energy_median</th>\n",
       "      <th>energy_mean</th>\n",
       "      <th>energy_max</th>\n",
       "      <th>energy_count</th>\n",
       "      <th>energy_std</th>\n",
       "      <th>energy_sum</th>\n",
       "      <th>energy_min</th>\n",
       "    </tr>\n",
       "  </thead>\n",
       "  <tbody>\n",
       "    <tr>\n",
       "      <td>0</td>\n",
       "      <td>MAC000113</td>\n",
       "      <td>2011-12-14</td>\n",
       "      <td>1.0910</td>\n",
       "      <td>1.065250</td>\n",
       "      <td>1.674</td>\n",
       "      <td>28</td>\n",
       "      <td>0.305397</td>\n",
       "      <td>29.827</td>\n",
       "      <td>0.262</td>\n",
       "    </tr>\n",
       "    <tr>\n",
       "      <td>1</td>\n",
       "      <td>MAC000113</td>\n",
       "      <td>2011-12-15</td>\n",
       "      <td>0.3710</td>\n",
       "      <td>0.546521</td>\n",
       "      <td>1.434</td>\n",
       "      <td>48</td>\n",
       "      <td>0.410120</td>\n",
       "      <td>26.233</td>\n",
       "      <td>0.119</td>\n",
       "    </tr>\n",
       "    <tr>\n",
       "      <td>2</td>\n",
       "      <td>MAC000113</td>\n",
       "      <td>2011-12-16</td>\n",
       "      <td>0.3205</td>\n",
       "      <td>0.534708</td>\n",
       "      <td>2.034</td>\n",
       "      <td>48</td>\n",
       "      <td>0.464431</td>\n",
       "      <td>25.666</td>\n",
       "      <td>0.129</td>\n",
       "    </tr>\n",
       "    <tr>\n",
       "      <td>3</td>\n",
       "      <td>MAC000113</td>\n",
       "      <td>2011-12-17</td>\n",
       "      <td>0.2570</td>\n",
       "      <td>0.421500</td>\n",
       "      <td>1.068</td>\n",
       "      <td>48</td>\n",
       "      <td>0.274387</td>\n",
       "      <td>20.232</td>\n",
       "      <td>0.115</td>\n",
       "    </tr>\n",
       "    <tr>\n",
       "      <td>4</td>\n",
       "      <td>MAC000113</td>\n",
       "      <td>2011-12-18</td>\n",
       "      <td>0.3985</td>\n",
       "      <td>0.565333</td>\n",
       "      <td>2.218</td>\n",
       "      <td>48</td>\n",
       "      <td>0.450712</td>\n",
       "      <td>27.136</td>\n",
       "      <td>0.134</td>\n",
       "    </tr>\n",
       "    <tr>\n",
       "      <td>5</td>\n",
       "      <td>MAC000113</td>\n",
       "      <td>2011-12-19</td>\n",
       "      <td>0.6980</td>\n",
       "      <td>0.746479</td>\n",
       "      <td>2.204</td>\n",
       "      <td>48</td>\n",
       "      <td>0.488694</td>\n",
       "      <td>35.831</td>\n",
       "      <td>0.131</td>\n",
       "    </tr>\n",
       "    <tr>\n",
       "      <td>6</td>\n",
       "      <td>MAC000113</td>\n",
       "      <td>2011-12-20</td>\n",
       "      <td>0.2485</td>\n",
       "      <td>0.436354</td>\n",
       "      <td>1.551</td>\n",
       "      <td>48</td>\n",
       "      <td>0.362781</td>\n",
       "      <td>20.945</td>\n",
       "      <td>0.139</td>\n",
       "    </tr>\n",
       "    <tr>\n",
       "      <td>7</td>\n",
       "      <td>MAC000113</td>\n",
       "      <td>2011-12-21</td>\n",
       "      <td>0.2050</td>\n",
       "      <td>0.426542</td>\n",
       "      <td>1.818</td>\n",
       "      <td>48</td>\n",
       "      <td>0.477511</td>\n",
       "      <td>20.474</td>\n",
       "      <td>0.119</td>\n",
       "    </tr>\n",
       "    <tr>\n",
       "      <td>8</td>\n",
       "      <td>MAC000113</td>\n",
       "      <td>2011-12-22</td>\n",
       "      <td>0.1830</td>\n",
       "      <td>0.181854</td>\n",
       "      <td>0.259</td>\n",
       "      <td>48</td>\n",
       "      <td>0.040321</td>\n",
       "      <td>8.729</td>\n",
       "      <td>0.119</td>\n",
       "    </tr>\n",
       "    <tr>\n",
       "      <td>9</td>\n",
       "      <td>MAC000113</td>\n",
       "      <td>2011-12-23</td>\n",
       "      <td>0.1860</td>\n",
       "      <td>0.185646</td>\n",
       "      <td>0.268</td>\n",
       "      <td>48</td>\n",
       "      <td>0.040754</td>\n",
       "      <td>8.911</td>\n",
       "      <td>0.121</td>\n",
       "    </tr>\n",
       "  </tbody>\n",
       "</table>\n",
       "</div>"
      ],
      "text/plain": [
       "       LCLid         day  energy_median  energy_mean  energy_max  \\\n",
       "0  MAC000113  2011-12-14         1.0910     1.065250       1.674   \n",
       "1  MAC000113  2011-12-15         0.3710     0.546521       1.434   \n",
       "2  MAC000113  2011-12-16         0.3205     0.534708       2.034   \n",
       "3  MAC000113  2011-12-17         0.2570     0.421500       1.068   \n",
       "4  MAC000113  2011-12-18         0.3985     0.565333       2.218   \n",
       "5  MAC000113  2011-12-19         0.6980     0.746479       2.204   \n",
       "6  MAC000113  2011-12-20         0.2485     0.436354       1.551   \n",
       "7  MAC000113  2011-12-21         0.2050     0.426542       1.818   \n",
       "8  MAC000113  2011-12-22         0.1830     0.181854       0.259   \n",
       "9  MAC000113  2011-12-23         0.1860     0.185646       0.268   \n",
       "\n",
       "   energy_count  energy_std  energy_sum  energy_min  \n",
       "0            28    0.305397      29.827       0.262  \n",
       "1            48    0.410120      26.233       0.119  \n",
       "2            48    0.464431      25.666       0.129  \n",
       "3            48    0.274387      20.232       0.115  \n",
       "4            48    0.450712      27.136       0.134  \n",
       "5            48    0.488694      35.831       0.131  \n",
       "6            48    0.362781      20.945       0.139  \n",
       "7            48    0.477511      20.474       0.119  \n",
       "8            48    0.040321       8.729       0.119  \n",
       "9            48    0.040754       8.911       0.121  "
      ]
     },
     "execution_count": 2,
     "metadata": {},
     "output_type": "execute_result"
    }
   ],
   "source": [
    "import pandas as pd #importamos Pandas!\n",
    "londres = pd.read_csv('Data/block_13_diario.csv')\n",
    "londres.head(10)"
   ]
  },
  {
   "cell_type": "code",
   "execution_count": 3,
   "metadata": {},
   "outputs": [],
   "source": [
    "Muestra1 = londres.iloc[1:50,4]\n",
    "Muestra2 = londres.iloc[1345:1854,4]"
   ]
  },
  {
   "cell_type": "code",
   "execution_count": 4,
   "metadata": {},
   "outputs": [
    {
     "data": {
      "text/plain": [
       "count    49.000000\n",
       "mean      1.456020\n",
       "std       0.632673\n",
       "min       0.259000\n",
       "25%       1.128000\n",
       "50%       1.570000\n",
       "75%       1.922000\n",
       "max       2.653000\n",
       "Name: energy_max, dtype: float64"
      ]
     },
     "execution_count": 4,
     "metadata": {},
     "output_type": "execute_result"
    }
   ],
   "source": [
    "Muestra1.describe()"
   ]
  },
  {
   "cell_type": "code",
   "execution_count": 5,
   "metadata": {},
   "outputs": [
    {
     "data": {
      "text/plain": [
       "count    509.000000\n",
       "mean       1.630165\n",
       "std        0.732034\n",
       "min        0.066000\n",
       "25%        1.013000\n",
       "50%        1.676000\n",
       "75%        2.115000\n",
       "max        4.041000\n",
       "Name: energy_max, dtype: float64"
      ]
     },
     "execution_count": 5,
     "metadata": {},
     "output_type": "execute_result"
    }
   ],
   "source": [
    "Muestra2.describe()"
   ]
  },
  {
   "cell_type": "markdown",
   "metadata": {},
   "source": [
    "Como se puede observar para cada muestra obtenemos métricas o estadísticas distintas. Este error, es el *error de estimación* o el *error muestral* \n",
    "\n",
    "<h4><center>error de estimación = parámetro - estadística</center></h4>\n",
    "\n"
   ]
  },
  {
   "cell_type": "code",
   "execution_count": 6,
   "metadata": {},
   "outputs": [
    {
     "name": "stdout",
     "output_type": "stream",
     "text": [
      "Error muestra 1: -0.5764242637403644\n",
      "Error muestra 2: -0.7505688811173737\n"
     ]
    }
   ],
   "source": [
    "Mean_pob=londres['energy_max'].mean()\n",
    "error1=Mean_pob-Muestra1.mean()\n",
    "error2=Mean_pob-Muestra2.mean()\n",
    "print('Error muestra 1:',error1)\n",
    "print('Error muestra 2:',error2)"
   ]
  },
  {
   "cell_type": "markdown",
   "metadata": {},
   "source": [
    "Si lo hacemos para varias muestras, con el mismo número de observaciones de manera aleatória, de manera automática:"
   ]
  },
  {
   "cell_type": "code",
   "execution_count": 7,
   "metadata": {},
   "outputs": [
    {
     "data": {
      "text/plain": [
       "<Figure size 640x480 with 1 Axes>"
      ]
     },
     "metadata": {},
     "output_type": "display_data"
    }
   ],
   "source": [
    "import matplotlib.pyplot as plt\n",
    "\n",
    "num_observaciones = 50\n",
    "num_muestras = 100\n",
    "lista_mean=[]\n",
    "for muestra in range(num_muestras):\n",
    "    s=londres['energy_max'].sample(num_observaciones,random_state = muestra)\n",
    "    lista_mean.append(s.mean())\n",
    "    \n",
    "plt.scatter(range(1,101),lista_mean)\n",
    "plt.axhline(londres['energy_max'].mean())\n",
    "plt.xlabel('Num de muestra')\n",
    "plt.ylabel('Media aritmética')\n",
    "plt.show()"
   ]
  },
  {
   "cell_type": "markdown",
   "metadata": {},
   "source": [
    "¿Cómo podemos solucionar esto? \n",
    "\n",
    "Una manera es, como se ha dicho, intentar acercarnos el máximo a toda la población. Veamos en nuestro ejemplo:"
   ]
  },
  {
   "cell_type": "code",
   "execution_count": 8,
   "metadata": {},
   "outputs": [
    {
     "data": {
      "image/png": "[encoded data removed]",
      "text/plain": [
       "<Figure size 1080x576 with 4 Axes>"
      ]
     },
     "metadata": {
      "needs_background": "light"
     },
     "output_type": "display_data"
    }
   ],
   "source": [
    "num_observaciones = 50\n",
    "num_muestras = 100\n",
    "listas_mean=[]\n",
    "for num_observaciones in [50,250,500,1000]:\n",
    "    lista_mean=[]\n",
    "    for muestra in range(num_muestras):\n",
    "        s=londres['energy_max'].sample(num_observaciones,random_state = muestra)\n",
    "        lista_mean.append(s.mean())\n",
    "    listas_mean.append(lista_mean)\n",
    "    \n",
    "plt.figure(figsize=(15,8))\n",
    "\n",
    "plt.subplot(2,2,1)\n",
    "plt.scatter(range(1,101),listas_mean[0])\n",
    "plt.axhline(londres['energy_max'].mean())\n",
    "plt.ylim(0.6, 1.1)\n",
    "plt.ylabel('Media aritmética')\n",
    "plt.title('50 observaciones')\n",
    "\n",
    "plt.subplot(2,2,2)\n",
    "plt.scatter(range(1,101),listas_mean[1])\n",
    "plt.axhline(londres['energy_max'].mean())\n",
    "plt.ylim(0.6, 1.1)\n",
    "plt.ylabel('Media aritmética')\n",
    "plt.title('250 observaciones')\n",
    "\n",
    "plt.subplot(2,2,3)\n",
    "plt.scatter(range(1,101),listas_mean[2])\n",
    "plt.axhline(londres['energy_max'].mean())\n",
    "plt.ylim(0.6, 1.1)\n",
    "plt.ylabel('Media aritmética')\n",
    "plt.title('500 observaciones')\n",
    "\n",
    "plt.subplot(2,2,4)\n",
    "plt.scatter(range(1,101),listas_mean[3])\n",
    "plt.axhline(londres['energy_max'].mean())\n",
    "plt.ylim(0.6, 1.1)\n",
    "plt.ylabel('Media aritmética')\n",
    "plt.title('1000 observaciones')\n",
    "\n",
    "plt.show()"
   ]
  },
  {
   "cell_type": "markdown",
   "metadata": {},
   "source": [
    "También debemos asegurar que la muestra sea representativa de las diferentes posbles categorias que haya en nuestro dataset. Para eso se puede usar *stratified sampling*\n",
    "\n",
    "\n",
    "<img src=\"Figures/stratified_sampling.jpg\" alt=\"Drawing\" style=\"width: 450px;\"/>"
   ]
  },
  {
   "cell_type": "markdown",
   "metadata": {},
   "source": [
    "### 2 Limpieza y resumen de datos\n",
    "\n",
    "Pandas nos ofrece varias opciones para obtener un resumen de los datos como el método *describe* visto anteriormente. Además, podemos usar otros métodos como:\n",
    "\n",
    "<img src=\"Figures/pandas_summary.png\" alt=\"Drawing\" style=\"width: 450px;\"/>\n",
    "\n",
    "Otras opciones interesantes para obtener distribuciones de frecuencia de los datos de una columna son los métodos *value_counts* i *nunique*"
   ]
  },
  {
   "cell_type": "code",
   "execution_count": 9,
   "metadata": {},
   "outputs": [
    {
     "data": {
      "text/plain": [
       "1.068"
      ]
     },
     "execution_count": 9,
     "metadata": {},
     "output_type": "execute_result"
    }
   ],
   "source": [
    "londres['energy_min'].max()"
   ]
  },
  {
   "cell_type": "code",
   "execution_count": 10,
   "metadata": {},
   "outputs": [
    {
     "data": {
      "text/html": [
       "<div>\n",
       "<style scoped>\n",
       "    .dataframe tbody tr th:only-of-type {\n",
       "        vertical-align: middle;\n",
       "    }\n",
       "\n",
       "    .dataframe tbody tr th {\n",
       "        vertical-align: top;\n",
       "    }\n",
       "\n",
       "    .dataframe thead th {\n",
       "        text-align: right;\n",
       "    }\n",
       "</style>\n",
       "<table border=\"1\" class=\"dataframe\">\n",
       "  <thead>\n",
       "    <tr style=\"text-align: right;\">\n",
       "      <th></th>\n",
       "      <th>LCLid</th>\n",
       "      <th>day</th>\n",
       "      <th>energy_median</th>\n",
       "      <th>energy_mean</th>\n",
       "      <th>energy_max</th>\n",
       "      <th>energy_count</th>\n",
       "      <th>energy_std</th>\n",
       "      <th>energy_sum</th>\n",
       "      <th>energy_min</th>\n",
       "    </tr>\n",
       "  </thead>\n",
       "  <tbody>\n",
       "    <tr>\n",
       "      <td>0</td>\n",
       "      <td>MAC000113</td>\n",
       "      <td>2011-12-14</td>\n",
       "      <td>1.0910</td>\n",
       "      <td>1.065250</td>\n",
       "      <td>1.674</td>\n",
       "      <td>28</td>\n",
       "      <td>0.305397</td>\n",
       "      <td>29.827</td>\n",
       "      <td>0.262</td>\n",
       "    </tr>\n",
       "    <tr>\n",
       "      <td>1</td>\n",
       "      <td>MAC000113</td>\n",
       "      <td>2011-12-15</td>\n",
       "      <td>0.3710</td>\n",
       "      <td>0.546521</td>\n",
       "      <td>1.434</td>\n",
       "      <td>48</td>\n",
       "      <td>0.410120</td>\n",
       "      <td>26.233</td>\n",
       "      <td>0.119</td>\n",
       "    </tr>\n",
       "    <tr>\n",
       "      <td>2</td>\n",
       "      <td>MAC000113</td>\n",
       "      <td>2011-12-16</td>\n",
       "      <td>0.3205</td>\n",
       "      <td>0.534708</td>\n",
       "      <td>2.034</td>\n",
       "      <td>48</td>\n",
       "      <td>0.464431</td>\n",
       "      <td>25.666</td>\n",
       "      <td>0.129</td>\n",
       "    </tr>\n",
       "    <tr>\n",
       "      <td>3</td>\n",
       "      <td>MAC000113</td>\n",
       "      <td>2011-12-17</td>\n",
       "      <td>0.2570</td>\n",
       "      <td>0.421500</td>\n",
       "      <td>1.068</td>\n",
       "      <td>48</td>\n",
       "      <td>0.274387</td>\n",
       "      <td>20.232</td>\n",
       "      <td>0.115</td>\n",
       "    </tr>\n",
       "    <tr>\n",
       "      <td>4</td>\n",
       "      <td>MAC000113</td>\n",
       "      <td>2011-12-18</td>\n",
       "      <td>0.3985</td>\n",
       "      <td>0.565333</td>\n",
       "      <td>2.218</td>\n",
       "      <td>48</td>\n",
       "      <td>0.450712</td>\n",
       "      <td>27.136</td>\n",
       "      <td>0.134</td>\n",
       "    </tr>\n",
       "  </tbody>\n",
       "</table>\n",
       "</div>"
      ],
      "text/plain": [
       "       LCLid         day  energy_median  energy_mean  energy_max  \\\n",
       "0  MAC000113  2011-12-14         1.0910     1.065250       1.674   \n",
       "1  MAC000113  2011-12-15         0.3710     0.546521       1.434   \n",
       "2  MAC000113  2011-12-16         0.3205     0.534708       2.034   \n",
       "3  MAC000113  2011-12-17         0.2570     0.421500       1.068   \n",
       "4  MAC000113  2011-12-18         0.3985     0.565333       2.218   \n",
       "\n",
       "   energy_count  energy_std  energy_sum  energy_min  \n",
       "0            28    0.305397      29.827       0.262  \n",
       "1            48    0.410120      26.233       0.119  \n",
       "2            48    0.464431      25.666       0.129  \n",
       "3            48    0.274387      20.232       0.115  \n",
       "4            48    0.450712      27.136       0.134  "
      ]
     },
     "execution_count": 10,
     "metadata": {},
     "output_type": "execute_result"
    }
   ],
   "source": [
    "# Ejercicio\n",
    "# Calcular la std de la energía mediana del contador MAC000113\n",
    "londres.head()"
   ]
  },
  {
   "cell_type": "markdown",
   "metadata": {},
   "source": [
    "Como ya se ha visto, hay varias opciones para tratar con valores vacíos, pero pandas nos ofrece algunas opciones rápidas e interesantes para ir rápido\n",
    "\n",
    "<img src=\"Figures/missing.png\" alt=\"Drawing\" style=\"width: 450px;\"/>"
   ]
  },
  {
   "cell_type": "markdown",
   "metadata": {},
   "source": [
    "Una herramienta que va bien para resumir es la librería *pandas-profiling* que hace un resúmen de los datos de un *dataframe* y nos muestra resultados interesantes resumidos y agrupados.\n",
    "\n",
    "**Ejercicio**\n",
    "\n",
    "Intalar la librería y usarla en el *dataframe* londres"
   ]
  },
  {
   "cell_type": "code",
   "execution_count": 11,
   "metadata": {},
   "outputs": [],
   "source": [
    "#library information: https://github.com/pandas-profiling/pandas-profiling\n",
    "#import library"
   ]
  },
  {
   "cell_type": "code",
   "execution_count": 12,
   "metadata": {},
   "outputs": [],
   "source": [
    "#apply ProfileReport"
   ]
  },
  {
   "cell_type": "markdown",
   "metadata": {},
   "source": [
    "Los pasos más usuales seran:\n",
    "\n",
    "+ **Muestreo datos**. Si hay muchos datos y el tiempo de cómputo puede ser demasiado grande se trabaja primero con solo una muestra\n",
    "\n",
    "+ **Missing values**. Es  usual que muchos parámetros estén vaciós. Para pasar a pasos posteriores esto se debe arreglar. Si faltan valores, podemos: \n",
    "    * (a) Eliminar toda la fila; \n",
    "    * (b) Inferir otro valor.\n",
    "   "
   ]
  },
  {
   "cell_type": "markdown",
   "metadata": {},
   "source": [
    "Siguientes pasos:\n",
    "\n",
    "+ **Normalizar**. Transformar los datos a distribuciones normalizadas.\n",
    " \n",
    "+ **Reducir dimensiones**. Muchas variables nos pueden causar problemas en Machine Learning. Para eliminar variables podemos:\n",
    "    * (a) Eliminar variables irrelevantes.\n",
    "    * (b)  Eliminar variables redundantes.\n",
    "    \n",
    "+ **Añadir dimensiones**. En otros casos haremos lo contrario y transformaremos o añadiremos variables (convertir un código postal coordenadas en unas coordenadas, crear grupos, etc.).\n",
    "\n",
    "+ **Discretizar variables numéricas en categorias**. Pasar de una variable continua a categórica (edad a tramos de edad).\n",
    "\n",
    "+ **Binarizar categorias**. En algunos casos de machine learning, tendremos que usar variables binarias."
   ]
  },
  {
   "cell_type": "markdown",
   "metadata": {},
   "source": [
    "## 3. Estadística descriptiva"
   ]
  },
  {
   "cell_type": "markdown",
   "metadata": {},
   "source": [
    "### 3.1 Tipos de Variables\n",
    "\n",
    "Las variables pueden ser nominales, ordinales, continuas o discretas.\n",
    "\n",
    "<img src=\"Figures/nominal_ordinal_interval_ratio.jpg\" alt=\"Drawing\" style=\"width: 450px;\"/>\n",
    "\n",
    "Donde se pueden observar diferencias en sus cualidades\n",
    "\n",
    "<img src=\"Figures/nominal_ordinal_interval_ratio.svg\" alt=\"Drawing\" style=\"width: 450px;\"/>\n",
    "\n",
    "Además también pueden ser consideradas cualitativas o cuantitativas.\n",
    "\n",
    "<img src=\"Figures/nominal_ordinal_interval_ratio_2.jpg\" alt=\"Drawing\" style=\"width: 450px;\"/>\n",
    "\n"
   ]
  },
  {
   "cell_type": "markdown",
   "metadata": {},
   "source": [
    "### 3.2 Media, mediana y moda\n",
    "\n",
    "Una vez tenemos un resumen de los datos usados, unos parámetros que nos pueden ser muy útiles para concer como de distribuien ciertas características de nuestro *dataset* son:\n",
    "* Media aritmética\n",
    "* Media ponderada\n",
    "* Mediana\n",
    "* Moda"
   ]
  },
  {
   "cell_type": "markdown",
   "metadata": {},
   "source": [
    "#### Media\n",
    "\n",
    "Podemos pensar que la media es el centro de gravedad de los datos de una distribución. Veamos un ejemplo y discutamos qué información se puede obtener y como nos puede ayudar o, al revés, desinformar si no se va con cuidado."
   ]
  },
  {
   "cell_type": "code",
   "execution_count": 13,
   "metadata": {},
   "outputs": [
    {
     "name": "stdout",
     "output_type": "stream",
     "text": [
      "Media poblacion: 4.0\n",
      "Media muestra: 4.75\n",
      "[3, 0, 13, 3]\n"
     ]
    }
   ],
   "source": [
    "import random\n",
    "import numpy as np\n",
    "\n",
    "poblacion = [0,2,3,3,3,4,13]\n",
    "muestra = random.choices(poblacion, k=4) #Seleccionar aleatoriamente 4 valores de la población\n",
    "\n",
    "poblacion_media = np.mean(poblacion)\n",
    "muestra_media = np.mean(muestra)\n",
    "\n",
    "print('Media poblacion:', poblacion_media)\n",
    "print('Media muestra:', muestra_media)\n",
    "print(muestra)"
   ]
  },
  {
   "cell_type": "markdown",
   "metadata": {},
   "source": [
    "En Pandas, se podría calcular de la siguente manera:"
   ]
  },
  {
   "cell_type": "code",
   "execution_count": 14,
   "metadata": {},
   "outputs": [
    {
     "data": {
      "text/plain": [
       "0.8795961444229009"
      ]
     },
     "execution_count": 14,
     "metadata": {},
     "output_type": "execute_result"
    }
   ],
   "source": [
    "londres['energy_max'].mean()"
   ]
  },
  {
   "cell_type": "markdown",
   "metadata": {},
   "source": [
    "#### Media Ponderada y Mediana\n",
    "\n",
    "Observemos el dataset *netherlands*"
   ]
  },
  {
   "cell_type": "code",
   "execution_count": 15,
   "metadata": {},
   "outputs": [
    {
     "data": {
      "text/html": [
       "<div>\n",
       "<style scoped>\n",
       "    .dataframe tbody tr th:only-of-type {\n",
       "        vertical-align: middle;\n",
       "    }\n",
       "\n",
       "    .dataframe tbody tr th {\n",
       "        vertical-align: top;\n",
       "    }\n",
       "\n",
       "    .dataframe thead th {\n",
       "        text-align: right;\n",
       "    }\n",
       "</style>\n",
       "<table border=\"1\" class=\"dataframe\">\n",
       "  <thead>\n",
       "    <tr style=\"text-align: right;\">\n",
       "      <th></th>\n",
       "      <th>net_manager</th>\n",
       "      <th>purchase_area</th>\n",
       "      <th>street</th>\n",
       "      <th>zipcode_from</th>\n",
       "      <th>zipcode_to</th>\n",
       "      <th>city</th>\n",
       "      <th>num_connections</th>\n",
       "      <th>delivery_perc</th>\n",
       "      <th>perc_of_active_connections</th>\n",
       "      <th>type_conn_perc</th>\n",
       "      <th>type_of_connection</th>\n",
       "      <th>annual_consume</th>\n",
       "      <th>annual_consume_lowtarif_perc</th>\n",
       "      <th>smartmeter_perc</th>\n",
       "    </tr>\n",
       "  </thead>\n",
       "  <tbody>\n",
       "    <tr>\n",
       "      <td>0</td>\n",
       "      <td>Cogas Infra &amp; Beheer BV</td>\n",
       "      <td>Netbeheerder Centraal Overijssel B.V.</td>\n",
       "      <td>Dorpsstraat</td>\n",
       "      <td>7468CP</td>\n",
       "      <td>7471AA</td>\n",
       "      <td>ENTER</td>\n",
       "      <td>19</td>\n",
       "      <td>89.47</td>\n",
       "      <td>94.74</td>\n",
       "      <td>89</td>\n",
       "      <td>1x35</td>\n",
       "      <td>4037</td>\n",
       "      <td>89.47</td>\n",
       "      <td>0.0</td>\n",
       "    </tr>\n",
       "    <tr>\n",
       "      <td>1</td>\n",
       "      <td>Cogas Infra &amp; Beheer BV</td>\n",
       "      <td>Netbeheerder Centraal Overijssel B.V.</td>\n",
       "      <td>De Stoevelaar</td>\n",
       "      <td>7471AB</td>\n",
       "      <td>7471AB</td>\n",
       "      <td>GOOR</td>\n",
       "      <td>40</td>\n",
       "      <td>100.00</td>\n",
       "      <td>97.50</td>\n",
       "      <td>80</td>\n",
       "      <td>1x35</td>\n",
       "      <td>2642</td>\n",
       "      <td>95.00</td>\n",
       "      <td>0.0</td>\n",
       "    </tr>\n",
       "    <tr>\n",
       "      <td>2</td>\n",
       "      <td>Cogas Infra &amp; Beheer BV</td>\n",
       "      <td>Netbeheerder Centraal Overijssel B.V.</td>\n",
       "      <td>De Stoevelaar</td>\n",
       "      <td>7471AC</td>\n",
       "      <td>7471AC</td>\n",
       "      <td>GOOR</td>\n",
       "      <td>16</td>\n",
       "      <td>100.00</td>\n",
       "      <td>100.00</td>\n",
       "      <td>100</td>\n",
       "      <td>1x35</td>\n",
       "      <td>1313</td>\n",
       "      <td>100.00</td>\n",
       "      <td>0.0</td>\n",
       "    </tr>\n",
       "  </tbody>\n",
       "</table>\n",
       "</div>"
      ],
      "text/plain": [
       "               net_manager                          purchase_area  \\\n",
       "0  Cogas Infra & Beheer BV  Netbeheerder Centraal Overijssel B.V.   \n",
       "1  Cogas Infra & Beheer BV  Netbeheerder Centraal Overijssel B.V.   \n",
       "2  Cogas Infra & Beheer BV  Netbeheerder Centraal Overijssel B.V.   \n",
       "\n",
       "          street zipcode_from zipcode_to   city  num_connections  \\\n",
       "0    Dorpsstraat       7468CP     7471AA  ENTER               19   \n",
       "1  De Stoevelaar       7471AB     7471AB   GOOR               40   \n",
       "2  De Stoevelaar       7471AC     7471AC   GOOR               16   \n",
       "\n",
       "   delivery_perc  perc_of_active_connections  type_conn_perc  \\\n",
       "0          89.47                       94.74              89   \n",
       "1         100.00                       97.50              80   \n",
       "2         100.00                      100.00             100   \n",
       "\n",
       "  type_of_connection  annual_consume  annual_consume_lowtarif_perc  \\\n",
       "0               1x35            4037                         89.47   \n",
       "1               1x35            2642                         95.00   \n",
       "2               1x35            1313                        100.00   \n",
       "\n",
       "   smartmeter_perc  \n",
       "0              0.0  \n",
       "1              0.0  \n",
       "2              0.0  "
      ]
     },
     "execution_count": 15,
     "metadata": {},
     "output_type": "execute_result"
    }
   ],
   "source": [
    "netherlands = pd.read_csv('Data/Electricity_Netherlands/coteq_electricity_2019.csv')\n",
    "netherlands.dropna()\n",
    "netherlands.head(3)"
   ]
  },
  {
   "cell_type": "markdown",
   "metadata": {},
   "source": [
    "Si se quiere obtener la media del consumo de todo el dataset, se podría calcular como:"
   ]
  },
  {
   "cell_type": "code",
   "execution_count": 16,
   "metadata": {},
   "outputs": [
    {
     "data": {
      "text/plain": [
       "3971.755364806867"
      ]
     },
     "execution_count": 16,
     "metadata": {},
     "output_type": "execute_result"
    }
   ],
   "source": [
    "netherlands['annual_consume'].mean()"
   ]
  },
  {
   "cell_type": "markdown",
   "metadata": {},
   "source": [
    "Pero si observamos bien el *dataset* podemos ver que esta media no es justa. ¿Por qué?"
   ]
  },
  {
   "cell_type": "code",
   "execution_count": 17,
   "metadata": {},
   "outputs": [
    {
     "data": {
      "text/plain": [
       "3981.6492243827834"
      ]
     },
     "execution_count": 17,
     "metadata": {},
     "output_type": "execute_result"
    }
   ],
   "source": [
    "def weighted(values, weights):\n",
    "    return sum([a*b for a,b in zip(values, weights)])/sum(weights)\n",
    "\n",
    "weighted(netherlands['annual_consume'], netherlands['num_connections'])"
   ]
  },
  {
   "cell_type": "code",
   "execution_count": 18,
   "metadata": {},
   "outputs": [
    {
     "data": {
      "text/plain": [
       "3981.6492243827834"
      ]
     },
     "execution_count": 18,
     "metadata": {},
     "output_type": "execute_result"
    }
   ],
   "source": [
    "import numpy as np\n",
    "\n",
    "np.average(netherlands['annual_consume'], weights=netherlands['num_connections'])"
   ]
  },
  {
   "cell_type": "markdown",
   "metadata": {},
   "source": [
    "Hemos visto como hay veces que computar la media, auque se pueda hacer, no sería correcto. En otras ocasiones, lo que nos pasará es que directamente no podemos calcular la media. Por ejemplo"
   ]
  },
  {
   "cell_type": "code",
   "execution_count": 19,
   "metadata": {},
   "outputs": [],
   "source": [
    "Edad_clientes = [34,23,54,23,'más de 80',76,34,43,65,57,'más de 80',43,39,49]"
   ]
  },
  {
   "cell_type": "markdown",
   "metadata": {},
   "source": [
    "En este caso, la **mediana** puede ser una buena medida alternativa."
   ]
  },
  {
   "cell_type": "markdown",
   "metadata": {},
   "source": [
    "Otra ventaja de la mediana es que no considera de manera equitativa todos los elementos de la distribución, lo que la hace más resistente a cambios en la distribución."
   ]
  },
  {
   "cell_type": "markdown",
   "metadata": {},
   "source": [
    "#### Moda\n",
    "\n",
    "Hemos visto que en ocasiones la media no nos dará la información buscada, o simplemente no se podrá calcular y usaremos la mediana. En otras ocasiones, pero, la moda también nos puede ser de utilidad. Por ejemplo:"
   ]
  },
  {
   "cell_type": "code",
   "execution_count": 20,
   "metadata": {},
   "outputs": [
    {
     "data": {
      "text/plain": [
       "0    ENTER\n",
       "1     GOOR\n",
       "2     GOOR\n",
       "3     GOOR\n",
       "4     GOOR\n",
       "Name: city, dtype: object"
      ]
     },
     "execution_count": 20,
     "metadata": {},
     "output_type": "execute_result"
    }
   ],
   "source": [
    "netherlands['city'].head(5)"
   ]
  },
  {
   "cell_type": "code",
   "execution_count": 21,
   "metadata": {},
   "outputs": [
    {
     "data": {
      "text/plain": [
       "ALMELO       1577\n",
       "OLDENZAAL     714\n",
       "GOOR          271\n",
       "ENTER           1\n",
       "Name: city, dtype: int64"
      ]
     },
     "execution_count": 21,
     "metadata": {},
     "output_type": "execute_result"
    }
   ],
   "source": [
    "netherlands['city'].value_counts()"
   ]
  },
  {
   "cell_type": "markdown",
   "metadata": {},
   "source": [
    "### 3.3 Variabilidad\n",
    "\n",
    "Veamos dos distribuciones:"
   ]
  },
  {
   "cell_type": "code",
   "execution_count": 22,
   "metadata": {},
   "outputs": [
    {
     "name": "stdout",
     "output_type": "stream",
     "text": [
      "La media de A es: 4.0\n",
      "La media de B es: 4.0\n"
     ]
    }
   ],
   "source": [
    "import numpy as np\n",
    "\n",
    "A=[4,4,4,4]\n",
    "B=[0,8,0,8]\n",
    "\n",
    "print('La media de A es:',np.mean(A))\n",
    "print('La media de B es:',np.mean(B))"
   ]
  },
  {
   "cell_type": "markdown",
   "metadata": {},
   "source": [
    "Efectivamente, dos distribuciones muy distintas pueden tener la misma media.\n",
    "\n",
    "Qué otro parámetro nos puede aydar a distinguir las dos distribuciones? Por ejemplo el rango:"
   ]
  },
  {
   "cell_type": "code",
   "execution_count": 23,
   "metadata": {},
   "outputs": [
    {
     "name": "stdout",
     "output_type": "stream",
     "text": [
      "El rango de A es: 0\n",
      "El rango de B es: 8\n"
     ]
    }
   ],
   "source": [
    "rango_A=max(A)-min(A)\n",
    "rango_B=max(B)-min(B)\n",
    "\n",
    "print('El rango de A es:',rango_A)\n",
    "print('El rango de B es:',rango_B)"
   ]
  },
  {
   "cell_type": "markdown",
   "metadata": {},
   "source": [
    "Pero el rango solo considera dos valores, y no es una buena solución:"
   ]
  },
  {
   "cell_type": "code",
   "execution_count": 24,
   "metadata": {},
   "outputs": [
    {
     "name": "stdout",
     "output_type": "stream",
     "text": [
      "La media de C es: 2.176470588235294\n",
      "El rango de C es: 20\n"
     ]
    }
   ],
   "source": [
    "C=[1,1,1,1,1,1,1,1,1,1,1,1,1,1,1,1,21]\n",
    "\n",
    "rango_C=max(C)-min(C)\n",
    "print('La media de C es:',np.mean(C))\n",
    "print('El rango de C es:',rango_C)"
   ]
  },
  {
   "cell_type": "markdown",
   "metadata": {},
   "source": [
    "Vemos que tenemos una distribución con muy poca variabilidad, pero con un rango muy alto. Esto es debido a que solo considera dos valores de la distribución y no toda la distribución."
   ]
  },
  {
   "cell_type": "markdown",
   "metadata": {},
   "source": [
    "Si consideramos todos los valores podemos calcular:\n",
    "\n",
    "<img src=\"Figures/variabilities.svg\" alt=\"Drawing\" style=\"width: 450px;\"/>"
   ]
  },
  {
   "cell_type": "markdown",
   "metadata": {},
   "source": [
    "\n",
    "$$ Distancia Media = \\frac{1}{n} \\sum_i (x_i - \\mu) $$\n"
   ]
  },
  {
   "cell_type": "markdown",
   "metadata": {},
   "source": [
    "#### Ejercicio\n",
    "\n",
    "Usar esta formula para las tres distribuciones superiores. ¿Qué valores se obtienen?"
   ]
  },
  {
   "cell_type": "markdown",
   "metadata": {},
   "source": [
    "Para evitarlo, usaremos:\n",
    "\n",
    "$$ Varianza = \\frac{1}{n} \\sum_i (x_i - \\mu)^2 $$"
   ]
  },
  {
   "cell_type": "markdown",
   "metadata": {},
   "source": [
    "El problema de la varianza es que no da un valor que no nos ofrece ningún sentido."
   ]
  },
  {
   "cell_type": "code",
   "execution_count": 25,
   "metadata": {},
   "outputs": [
    {
     "name": "stdout",
     "output_type": "stream",
     "text": [
      "La varianza es de: 12.666666666666666\n"
     ]
    }
   ],
   "source": [
    "consumos_semana=[0,7,8]\n",
    "\n",
    "print('La varianza es de:', np.var(consumos_semana))"
   ]
  },
  {
   "cell_type": "markdown",
   "metadata": {},
   "source": [
    "Para esto se usa la **desviacón estándar**\n",
    "\n",
    "Varianza $$ \\sigma^2 = \\frac{1}{n} \\sum_i (x_i - \\mu)^2 $$\n",
    "\n",
    "Desviacón estándar $$ \\sigma = \\sqrt (\\frac{1}{n} \\sum_i (x_i - \\mu)^2) $$\n"
   ]
  },
  {
   "cell_type": "code",
   "execution_count": 26,
   "metadata": {},
   "outputs": [
    {
     "name": "stdout",
     "output_type": "stream",
     "text": [
      "La desviación estandar es de: 3.559026084010437\n",
      "La media es de: 5.0\n"
     ]
    }
   ],
   "source": [
    "consumos=[0,7,8]\n",
    "\n",
    "print('La desviación estandar es de:', np.std(consumos_semana))\n",
    "print('La media es de:', np.mean(consumos_semana))"
   ]
  },
  {
   "cell_type": "code",
   "execution_count": 27,
   "metadata": {},
   "outputs": [
    {
     "data": {
      "text/plain": [
       "<matplotlib.legend.Legend at 0x21a63cfbd08>"
      ]
     },
     "execution_count": 27,
     "metadata": {},
     "output_type": "execute_result"
    },
    {
     "data": {
      "image/png": "[encoded data removed]",
      "text/plain": [
       "<Figure size 432x288 with 1 Axes>"
      ]
     },
     "metadata": {
      "needs_background": "light"
     },
     "output_type": "display_data"
    }
   ],
   "source": [
    "import matplotlib.pyplot as plt\n",
    "\n",
    "media = londres['energy_max'].mean()\n",
    "st_dev = londres['energy_max'].std()\n",
    "londres['energy_max'].plot.hist()\n",
    "plt.axvline(media, color = 'Black', label = 'Media')\n",
    "plt.axvline(media - st_dev, color = 'Red', label = 'Encima')\n",
    "plt.axvline(media + st_dev, color = 'Violet', label = 'Abajo')\n",
    "plt.legend()"
   ]
  },
  {
   "cell_type": "markdown",
   "metadata": {},
   "source": [
    "¿Qué ocurre cuando no podemos trabajar con los datos de toda una población y solo tenemos una muestra?\n",
    "\n",
    "Véamos qué passa si cogemos varias muestras al azar de nuestra distribución de energía máxima:"
   ]
  },
  {
   "cell_type": "code",
   "execution_count": 28,
   "metadata": {},
   "outputs": [
    {
     "data": {
      "text/plain": [
       "<matplotlib.lines.Line2D at 0x21a622e8148>"
      ]
     },
     "execution_count": 28,
     "metadata": {},
     "output_type": "execute_result"
    },
    {
     "data": {
      "image/png": "[encoded data removed]",
      "text/plain": [
       "<Figure size 432x288 with 1 Axes>"
      ]
     },
     "metadata": {
      "needs_background": "light"
     },
     "output_type": "display_data"
    }
   ],
   "source": [
    "from math import sqrt\n",
    "def standard_deviation(array):\n",
    "    reference_point = sum(array) / len(array)\n",
    "    \n",
    "    distances = []\n",
    "    for value in array:\n",
    "        squared_distance = (value - reference_point)**2\n",
    "        distances.append(squared_distance)\n",
    "    \n",
    "    variance = sum(distances) / len(distances)\n",
    "    \n",
    "    return sqrt(variance)\n",
    "\n",
    "std_lista=[]\n",
    "\n",
    "for i in range(3000):\n",
    "    sd=standard_deviation(londres['energy_max'].sample(20, random_state=i))\n",
    "    std_lista.append(sd)\n",
    "\n",
    "plt.hist(std_lista)\n",
    "plt.axvline(londres['energy_max'].std())"
   ]
  },
  {
   "cell_type": "markdown",
   "metadata": {},
   "source": [
    "Se puede ver como, en general, las desviaciones estándar siempre son inferiores a la real.\n",
    "\n",
    "<img src=\"Figures/bessel1.svg\" alt=\"Drawing\" style=\"width: 600px;\"/>\n",
    "\n",
    "Conseguir muestras que tengas una varianza parecida es muy difícil.\n",
    "\n",
    "<img src=\"Figures/bessel2.svg\" alt=\"Drawing\" style=\"width: 300px;\"/>\n",
    "\n",
    "Para corregir esto, se usa la corrección de Bessel, donde se divide por *n-1*.\n",
    "\n",
    "Desviacón estándar $$ \\sigma = s = \\sqrt (\\frac{1}{n-1} \\sum_i (x_i - \\mu)^2) $$\n",
    "\n",
    "Pandas lo hace automáticamente\n"
   ]
  },
  {
   "cell_type": "markdown",
   "metadata": {
    "scrolled": true,
    "slideshow": {
     "slide_type": "subslide"
    }
   },
   "source": [
    "### 3.4 Tablas de frecuencia\n",
    "\n",
    "Una tabla de frecuencia nos permite saber cuántas veces aparece cada categoria en una variable. Por suerte Pandas ya nos ofrece herramientas para obtenerla rápidamente:"
   ]
  },
  {
   "cell_type": "code",
   "execution_count": 29,
   "metadata": {
    "scrolled": true
   },
   "outputs": [
    {
     "data": {
      "text/plain": [
       "MAC000113    808\n",
       "MAC005270    750\n",
       "MAC005269    750\n",
       "MAC005317    744\n",
       "MAC005313    744\n",
       "MAC005319    744\n",
       "MAC005367    737\n",
       "MAC005403    733\n",
       "MAC005405    733\n",
       "MAC005404    733\n",
       "MAC005400    733\n",
       "MAC005392    733\n",
       "MAC005407    732\n",
       "MAC005412    732\n",
       "MAC005408    732\n",
       "MAC005411    732\n",
       "MAC005415    731\n",
       "MAC005416    731\n",
       "MAC000301    728\n",
       "MAC000309    725\n",
       "MAC005331    703\n",
       "MAC002676    666\n",
       "MAC002663    666\n",
       "MAC002662    666\n",
       "MAC002666    665\n",
       "MAC002702    665\n",
       "MAC002764    660\n",
       "MAC002750    660\n",
       "MAC002757    660\n",
       "MAC002761    660\n",
       "MAC002754    660\n",
       "MAC002756    660\n",
       "MAC002509    602\n",
       "MAC002512    602\n",
       "MAC002558    600\n",
       "MAC002517    600\n",
       "MAC002519    600\n",
       "MAC002525    600\n",
       "MAC002522    600\n",
       "MAC002514    600\n",
       "MAC002513    600\n",
       "MAC002539    600\n",
       "MAC002518    600\n",
       "MAC002530    600\n",
       "MAC002605    599\n",
       "MAC002557    598\n",
       "MAC005322    531\n",
       "MAC002510    501\n",
       "MAC002767    497\n",
       "MAC005274    286\n",
       "Name: LCLid, dtype: int64"
      ]
     },
     "execution_count": 29,
     "metadata": {},
     "output_type": "execute_result"
    }
   ],
   "source": [
    "frec_counts = londres['LCLid'].value_counts()\n",
    "frec_counts"
   ]
  },
  {
   "cell_type": "markdown",
   "metadata": {},
   "source": [
    "¿En el caso de trabajar con una variable más continua qué pasaría?"
   ]
  },
  {
   "cell_type": "code",
   "execution_count": 30,
   "metadata": {},
   "outputs": [
    {
     "data": {
      "text/plain": [
       "0.047    171\n",
       "0.046    148\n",
       "0.024    137\n",
       "0.000    127\n",
       "0.045     87\n",
       "        ... \n",
       "3.090      1\n",
       "5.114      1\n",
       "2.331      1\n",
       "2.164      1\n",
       "2.943      1\n",
       "Name: energy_max, Length: 2987, dtype: int64"
      ]
     },
     "execution_count": 30,
     "metadata": {},
     "output_type": "execute_result"
    }
   ],
   "source": [
    "frec_counts = londres['energy_max'].value_counts()\n",
    "frec_counts"
   ]
  },
  {
   "cell_type": "markdown",
   "metadata": {},
   "source": [
    "De repente, esta tabla no tiene mucho sentido ni mucha utilidad. Para esto podemos usar el código siguiente:"
   ]
  },
  {
   "cell_type": "code",
   "execution_count": 31,
   "metadata": {},
   "outputs": [
    {
     "data": {
      "text/plain": [
       "(-0.0079, 1.379]    26371\n",
       "(1.379, 2.759]       6190\n",
       "(2.759, 4.138]        372\n",
       "(4.138, 5.518]         43\n",
       "(5.518, 6.897]         16\n",
       "Name: energy_max, dtype: int64"
      ]
     },
     "execution_count": 31,
     "metadata": {},
     "output_type": "execute_result"
    }
   ],
   "source": [
    "frec_counts = londres['energy_max'].value_counts(bins=5)\n",
    "frec_counts"
   ]
  },
  {
   "cell_type": "markdown",
   "metadata": {},
   "source": [
    "Para visualizar las tablas de frecuencia podemos usar Matplotlib como antes, o hacer los gráficos directamente des de pandas, que ya nos da esta posibilidad facilitando el trabajao.\n",
    "\n",
    "Así, en el primer caso, tendríamos:"
   ]
  },
  {
   "cell_type": "code",
   "execution_count": 32,
   "metadata": {},
   "outputs": [
    {
     "data": {
      "text/plain": [
       "<AxesSubplot:>"
      ]
     },
     "execution_count": 32,
     "metadata": {},
     "output_type": "execute_result"
    },
    {
     "data": {
      "image/png": "[encoded data removed]",
      "text/plain": [
       "<Figure size 432x288 with 1 Axes>"
      ]
     },
     "metadata": {
      "needs_background": "light"
     },
     "output_type": "display_data"
    }
   ],
   "source": [
    "londres['LCLid'].value_counts().plot.bar()"
   ]
  },
  {
   "cell_type": "markdown",
   "metadata": {},
   "source": [
    "Y en el segundo caso:"
   ]
  },
  {
   "cell_type": "code",
   "execution_count": 33,
   "metadata": {},
   "outputs": [
    {
     "data": {
      "text/plain": [
       "<AxesSubplot:>"
      ]
     },
     "execution_count": 33,
     "metadata": {},
     "output_type": "execute_result"
    },
    {
     "data": {
      "image/png": "[encoded data removed]",
      "text/plain": [
       "<Figure size 432x288 with 1 Axes>"
      ]
     },
     "metadata": {
      "needs_background": "light"
     },
     "output_type": "display_data"
    }
   ],
   "source": [
    "londres['energy_max'].value_counts(bins=5).plot.bar()"
   ]
  },
  {
   "cell_type": "markdown",
   "metadata": {},
   "source": [
    "### 3.5 Comparar distribuciones de frecuencia\n",
    "\n",
    "La mejor manera de comparar y evaluar distintas distribuciones de frecuencia es visualizarlas. A continuación hay varios ejemplos:\n"
   ]
  },
  {
   "cell_type": "code",
   "execution_count": 34,
   "metadata": {},
   "outputs": [
    {
     "data": {
      "text/plain": [
       "<AxesSubplot:ylabel='Density'>"
      ]
     },
     "execution_count": 34,
     "metadata": {},
     "output_type": "execute_result"
    },
    {
     "data": {
      "image/png": "[encoded data removed]",
      "text/plain": [
       "<Figure size 432x288 with 1 Axes>"
      ]
     },
     "metadata": {
      "needs_background": "light"
     },
     "output_type": "display_data"
    }
   ],
   "source": [
    "import seaborn as sns\n",
    "import warnings\n",
    "warnings.filterwarnings('ignore')\n",
    "\n",
    "londres['energy_max'].plot.kde()\n",
    "londres['energy_min'].plot.kde()"
   ]
  },
  {
   "cell_type": "code",
   "execution_count": 35,
   "metadata": {},
   "outputs": [
    {
     "data": {
      "text/plain": [
       "<AxesSubplot:>"
      ]
     },
     "execution_count": 35,
     "metadata": {},
     "output_type": "execute_result"
    },
    {
     "data": {
      "image/png": "[encoded data removed]",
      "text/plain": [
       "<Figure size 432x288 with 1 Axes>"
      ]
     },
     "metadata": {
      "needs_background": "light"
     },
     "output_type": "display_data"
    }
   ],
   "source": [
    "londres['energy_max'].hist(histtype='stepfilled')\n",
    "londres['energy_min'].hist(histtype='stepfilled', color=sns.desaturate(\"indianred\", .75))"
   ]
  },
  {
   "cell_type": "code",
   "execution_count": 36,
   "metadata": {},
   "outputs": [
    {
     "data": {
      "text/plain": [
       "<AxesSubplot:>"
      ]
     },
     "execution_count": 36,
     "metadata": {},
     "output_type": "execute_result"
    },
    {
     "data": {
      "image/png": "[encoded data removed]",
      "text/plain": [
       "<Figure size 432x288 with 1 Axes>"
      ]
     },
     "metadata": {
      "needs_background": "light"
     },
     "output_type": "display_data"
    }
   ],
   "source": [
    "londres['energy_max'].hist(histtype='step', cumulative=True, linewidth=3.5)"
   ]
  },
  {
   "cell_type": "markdown",
   "metadata": {},
   "source": [
    "#### Ejercicio\n",
    "\n",
    "Hacer dos boxplots comparando la energia màxima entre dos contadores con LCLid distintos del dataset *londres* cargado."
   ]
  },
  {
   "cell_type": "code",
   "execution_count": 37,
   "metadata": {},
   "outputs": [
    {
     "data": {
      "image/png": "[encoded data removed]",
      "text/plain": [
       "<Figure size 720x504 with 1 Axes>"
      ]
     },
     "metadata": {
      "needs_background": "light"
     },
     "output_type": "display_data"
    }
   ],
   "source": [
    "# Vuestro Codigo!\n"
   ]
  },
  {
   "cell_type": "markdown",
   "metadata": {},
   "source": [
    "**Ejercicio**\n",
    "\n",
    "Inspeccionar la carpeta Data de este repositorio y abrir el archivo con los consumos de electricidad de la zona west-land infra en 2019 en un dataset llamado *netherlands* e inspeccionar las primeras filas\n",
    "\n"
   ]
  },
  {
   "cell_type": "code",
   "execution_count": 38,
   "metadata": {
    "scrolled": true
   },
   "outputs": [
    {
     "data": {
      "text/html": [
       "<div>\n",
       "<style scoped>\n",
       "    .dataframe tbody tr th:only-of-type {\n",
       "        vertical-align: middle;\n",
       "    }\n",
       "\n",
       "    .dataframe tbody tr th {\n",
       "        vertical-align: top;\n",
       "    }\n",
       "\n",
       "    .dataframe thead th {\n",
       "        text-align: right;\n",
       "    }\n",
       "</style>\n",
       "<table border=\"1\" class=\"dataframe\">\n",
       "  <thead>\n",
       "    <tr style=\"text-align: right;\">\n",
       "      <th></th>\n",
       "      <th>net_manager</th>\n",
       "      <th>purchase_area</th>\n",
       "      <th>street</th>\n",
       "      <th>zipcode_from</th>\n",
       "      <th>zipcode_to</th>\n",
       "      <th>city</th>\n",
       "      <th>num_connections</th>\n",
       "      <th>delivery_perc</th>\n",
       "      <th>perc_of_active_connections</th>\n",
       "      <th>type_conn_perc</th>\n",
       "      <th>type_of_connection</th>\n",
       "      <th>annual_consume</th>\n",
       "      <th>annual_consume_lowtarif_perc</th>\n",
       "      <th>smartmeter_perc</th>\n",
       "    </tr>\n",
       "  </thead>\n",
       "  <tbody>\n",
       "    <tr>\n",
       "      <td>0</td>\n",
       "      <td>Cogas Infra &amp; Beheer BV</td>\n",
       "      <td>Netbeheerder Centraal Overijssel B.V.</td>\n",
       "      <td>Dorpsstraat</td>\n",
       "      <td>7468CP</td>\n",
       "      <td>7471AA</td>\n",
       "      <td>ENTER</td>\n",
       "      <td>19</td>\n",
       "      <td>89.47</td>\n",
       "      <td>94.74</td>\n",
       "      <td>89</td>\n",
       "      <td>1x35</td>\n",
       "      <td>4037</td>\n",
       "      <td>89.47</td>\n",
       "      <td>0.0</td>\n",
       "    </tr>\n",
       "    <tr>\n",
       "      <td>1</td>\n",
       "      <td>Cogas Infra &amp; Beheer BV</td>\n",
       "      <td>Netbeheerder Centraal Overijssel B.V.</td>\n",
       "      <td>De Stoevelaar</td>\n",
       "      <td>7471AB</td>\n",
       "      <td>7471AB</td>\n",
       "      <td>GOOR</td>\n",
       "      <td>40</td>\n",
       "      <td>100.00</td>\n",
       "      <td>97.50</td>\n",
       "      <td>80</td>\n",
       "      <td>1x35</td>\n",
       "      <td>2642</td>\n",
       "      <td>95.00</td>\n",
       "      <td>0.0</td>\n",
       "    </tr>\n",
       "    <tr>\n",
       "      <td>2</td>\n",
       "      <td>Cogas Infra &amp; Beheer BV</td>\n",
       "      <td>Netbeheerder Centraal Overijssel B.V.</td>\n",
       "      <td>De Stoevelaar</td>\n",
       "      <td>7471AC</td>\n",
       "      <td>7471AC</td>\n",
       "      <td>GOOR</td>\n",
       "      <td>16</td>\n",
       "      <td>100.00</td>\n",
       "      <td>100.00</td>\n",
       "      <td>100</td>\n",
       "      <td>1x35</td>\n",
       "      <td>1313</td>\n",
       "      <td>100.00</td>\n",
       "      <td>0.0</td>\n",
       "    </tr>\n",
       "    <tr>\n",
       "      <td>3</td>\n",
       "      <td>Cogas Infra &amp; Beheer BV</td>\n",
       "      <td>Netbeheerder Centraal Overijssel B.V.</td>\n",
       "      <td>De Stoevelaar</td>\n",
       "      <td>7471AD</td>\n",
       "      <td>7471AE</td>\n",
       "      <td>GOOR</td>\n",
       "      <td>41</td>\n",
       "      <td>92.68</td>\n",
       "      <td>85.37</td>\n",
       "      <td>54</td>\n",
       "      <td>3x25</td>\n",
       "      <td>6405</td>\n",
       "      <td>92.68</td>\n",
       "      <td>0.0</td>\n",
       "    </tr>\n",
       "    <tr>\n",
       "      <td>4</td>\n",
       "      <td>Cogas Infra &amp; Beheer BV</td>\n",
       "      <td>Netbeheerder Centraal Overijssel B.V.</td>\n",
       "      <td>Kerkstraat</td>\n",
       "      <td>7471AG</td>\n",
       "      <td>7471AG</td>\n",
       "      <td>GOOR</td>\n",
       "      <td>14</td>\n",
       "      <td>85.71</td>\n",
       "      <td>100.00</td>\n",
       "      <td>36</td>\n",
       "      <td>3x25</td>\n",
       "      <td>4742</td>\n",
       "      <td>100.00</td>\n",
       "      <td>0.0</td>\n",
       "    </tr>\n",
       "  </tbody>\n",
       "</table>\n",
       "</div>"
      ],
      "text/plain": [
       "               net_manager                          purchase_area  \\\n",
       "0  Cogas Infra & Beheer BV  Netbeheerder Centraal Overijssel B.V.   \n",
       "1  Cogas Infra & Beheer BV  Netbeheerder Centraal Overijssel B.V.   \n",
       "2  Cogas Infra & Beheer BV  Netbeheerder Centraal Overijssel B.V.   \n",
       "3  Cogas Infra & Beheer BV  Netbeheerder Centraal Overijssel B.V.   \n",
       "4  Cogas Infra & Beheer BV  Netbeheerder Centraal Overijssel B.V.   \n",
       "\n",
       "          street zipcode_from zipcode_to   city  num_connections  \\\n",
       "0    Dorpsstraat       7468CP     7471AA  ENTER               19   \n",
       "1  De Stoevelaar       7471AB     7471AB   GOOR               40   \n",
       "2  De Stoevelaar       7471AC     7471AC   GOOR               16   \n",
       "3  De Stoevelaar       7471AD     7471AE   GOOR               41   \n",
       "4     Kerkstraat       7471AG     7471AG   GOOR               14   \n",
       "\n",
       "   delivery_perc  perc_of_active_connections  type_conn_perc  \\\n",
       "0          89.47                       94.74              89   \n",
       "1         100.00                       97.50              80   \n",
       "2         100.00                      100.00             100   \n",
       "3          92.68                       85.37              54   \n",
       "4          85.71                      100.00              36   \n",
       "\n",
       "  type_of_connection  annual_consume  annual_consume_lowtarif_perc  \\\n",
       "0               1x35            4037                         89.47   \n",
       "1               1x35            2642                         95.00   \n",
       "2               1x35            1313                        100.00   \n",
       "3               3x25            6405                         92.68   \n",
       "4               3x25            4742                        100.00   \n",
       "\n",
       "   smartmeter_perc  \n",
       "0              0.0  \n",
       "1              0.0  \n",
       "2              0.0  \n",
       "3              0.0  \n",
       "4              0.0  "
      ]
     },
     "execution_count": 38,
     "metadata": {},
     "output_type": "execute_result"
    }
   ],
   "source": [
    "import pandas as pd\n",
    "\n",
    "netherlands.head()"
   ]
  },
  {
   "cell_type": "markdown",
   "metadata": {},
   "source": [
    "**Ejercicios** \n",
    "\n",
    "+ ¿Hay missing values? ¿Dónde?\n",
    "+ ¿Dónde (ZIP code) hay más % de Smart Meters instalados?\n",
    "+ ¿Cuántos tiposde conexión hay?\n",
    "+ ¿Cómo se distribuyen los consumos anuales?\n",
    "+ ¿Qué pueblo tiene más % de conexiones activas?¿Cuántos pueblos hay en total?\n",
    "+ ¿Qué pueblo tiene más número de conexiones?\n",
    "+ ¿En cuántos casos el zipcode_from es igual al zipcode_to?\n",
    "+ Resumir por cada columna qué información se tiene y qué variaciones harías para adaptarla y limpiarla"
   ]
  },
  {
   "cell_type": "markdown",
   "metadata": {},
   "source": [
    "### 3.6 Asimetría\n",
    "\n",
    "En una distribución, también podremos medir la asimetría o el *skewness*:\n",
    "\n",
    "$$ g_1 = \\frac{\\frac{1}{n} \\sum_i (x_i - \\mu)^2 }{\\frac{1}{n} \\sum_i (x_i - \\mu)^3 }$$\n",
    "\n",
    "Otra fórmula que da buenos resultados es *Pearson's median skewness coefficient*:\n",
    "\n",
    "$$ g_p = \\frac{3(\\mu - \\mu_{\\frac{1}{2}})}{\\sigma} $$\n",
    "\n",
    "El skewess muestra:\n",
    "+ Si es negativo es que se extiende más a la izquierda que a la derecha.\n",
    "+ Si es positivo es que se extiende más a la derecha que a la izquierda.\n",
    "\n",
    "En Pandas:"
   ]
  },
  {
   "cell_type": "code",
   "execution_count": 39,
   "metadata": {},
   "outputs": [
    {
     "data": {
      "text/plain": [
       "1.319425210797254"
      ]
     },
     "execution_count": 39,
     "metadata": {},
     "output_type": "execute_result"
    }
   ],
   "source": [
    "londres['energy_max'].skew()"
   ]
  },
  {
   "cell_type": "markdown",
   "metadata": {},
   "source": [
    "## 4 Probabilidad\n",
    "\n",
    "Aunque hay muchas veces que somos capaces de predecir el resultado de una operación, en muchas ocasiones solo podremos trabajar con probabilidades. Por ejemplo, para una moneda tenemos:\n",
    "\n",
    "$$ P(cruz) = 0.5 $$\n",
    "\n",
    "$$ P(cruz) = \\frac{\\text{Ocasiones en que sale cruz}}{\\text{Repeticiones del experimento}}$$\n"
   ]
  },
  {
   "cell_type": "code",
   "execution_count": 40,
   "metadata": {},
   "outputs": [
    {
     "name": "stdout",
     "output_type": "stream",
     "text": [
      "Probabilidades obtenidas en los 10 primeros experimentos [1.0, 1.0, 0.6666666666666666, 0.5, 0.6, 0.6666666666666666, 0.7142857142857143, 0.75, 0.7777777777777778, 0.7]\n",
      "Probabilidades obtenidas en los 10 últimos experimentos [0.4993494144730257, 0.49939951961569257, 0.4993495446812769, 0.4993996397838703, 0.4993496748374187, 0.4992997198879552, 0.49934980494148246, 0.4993998799759952, 0.49934993499349933, 0.4994]\n"
     ]
    }
   ],
   "source": [
    "from numpy.random import seed, randint\n",
    "\n",
    "seed(1)\n",
    "\n",
    "def coin_toss():\n",
    "    if randint(0,2) == 1:\n",
    "        return 'HEAD'\n",
    "    else:\n",
    "        return 'TAIL'\n",
    "    \n",
    "probabilities = []\n",
    "heads = 0\n",
    "\n",
    "for n in range(1, 10001):\n",
    "    outcome=coin_toss()\n",
    "    if outcome == 'HEAD':\n",
    "        heads+=1\n",
    "    current_probability=heads/n\n",
    "    probabilities.append(current_probability)\n",
    "\n",
    "print('Probabilidades obtenidas en los 10 primeros experimentos',probabilities[:10])\n",
    "print('Probabilidades obtenidas en los 10 últimos experimentos',probabilities[-10:])"
   ]
  },
  {
   "cell_type": "markdown",
   "metadata": {},
   "source": [
    "De todos modos, también podemos calcular la probabilidad sin la necesidad de hacer tantos experimentos:\n",
    "\n",
    "$$ P(E) = \\frac{\\text{Eventos}}{\\text{Posibles eventos}}$$\n",
    "\n",
    "En el caso de un dado:\n",
    "\n",
    "$$ P(\\text{Número par}) = \\frac{3}{6}$$\n",
    "\n",
    "$$ P(\\text{1 o 5}) = \\frac{2}{6}$$\n"
   ]
  },
  {
   "cell_type": "markdown",
   "metadata": {},
   "source": [
    "### 4.1 Normas de probabilidad\n",
    "\n",
    "Lo que tendremos normalmente es un *set* de posibles eventos, en el ejemplo del dado:\n",
    "\n",
    "$$ \\Omega = \\text{{1,2,3,4,5,6}}$$\n",
    "\n",
    "Si consideramos tirar dos dados:\n",
    "\n",
    "<img src=\"Figures/pr1m2_sums.png\" alt=\"Drawing\" style=\"width: 600px;\"/>\n",
    "\n",
    "Calular las probabilidades de que entre las dos tirada salga un 6\n"
   ]
  },
  {
   "cell_type": "code",
   "execution_count": null,
   "metadata": {},
   "outputs": [],
   "source": []
  },
  {
   "cell_type": "markdown",
   "metadata": {},
   "source": [
    "Hay dos normas básicas para cacular probabilidades combinado dos posibles eventos.\n",
    "\n",
    "$$ P(\\text{A y B}) = P(A)P(B)$$\n",
    "\n",
    "$$ P(\\text{A o B}) = P(A) + P(B) - P(A)P(B)$$\n",
    "\n",
    "O introduciendo una nueva notación:\n",
    "\n",
    "$$ P(A \\cup B) = P(A) + P(B) - P(A \\cap B)$$\n"
   ]
  },
  {
   "cell_type": "markdown",
   "metadata": {},
   "source": [
    "Otra norma importante es:\n",
    "    \n",
    "$$ P(A \\cup \\text{no A} ) = P(A) + P(\\text{no A}) = 1$$\n",
    "    "
   ]
  },
  {
   "cell_type": "markdown",
   "metadata": {},
   "source": [
    "**Eventos independientes**\n",
    "\n",
    "Cuando los eventos son independientes es cuando podemos usar la formula\n",
    "\n",
    "$$ P(\\text{A y B}) = P(A)P(B)$$\n",
    "\n",
    "\n",
    "Por ejemplo, la probabilidad de sacar 4 veces una cruz:\n",
    "\n",
    "$$ P(\\text{Cruz 4 veces}) = P(Cruz)P(Cruz)P(Cruz)P(Cruz)$$\n",
    "\n",
    "Pero si los eventos no son independientes no podemos usarla directamente. Por ejemplo\n",
    "\n",
    "$$ P(A) = P(\\text{Número par}) = \\frac{3}{6}$$\n",
    "\n",
    "$$ P(B) = P(\\text{Número menor a 4}) = \\frac{3}{6}$$\n",
    "\n",
    "$$ P(A \\cap B) = ?? $$\n",
    "\n"
   ]
  },
  {
   "cell_type": "markdown",
   "metadata": {},
   "source": [
    "**Eventos con y sin reemplazo**\n",
    "\n",
    "También se debe tener en cuenta si hay reemplazo en la muestra. Un ejemplo claro es una baraja de cartas.\n",
    "\n",
    "¿Què probabilidad hay de sacar 4 ases seguidos en una baraja de cartas?"
   ]
  },
  {
   "cell_type": "markdown",
   "metadata": {},
   "source": [
    "### 4.2 Combinatorias y permutaciones\n",
    "\n",
    "En general para saber cuántas combinaciones e un evento pueden ocurrir, podemos usar la norma de la multiplicación.\n",
    "\n",
    "$$ P(\\text{Pin Móvil = 8424}) = \\frac{1}{10·10·10·10}$$\n",
    "\n",
    "En este caso, ¿había reemplazo?¿Y si no lo hay? \n",
    "\n",
    "A continuación teneis un cuadro resúmen de recordatorio de combinaciones y permutaciones\n",
    "\n",
    "<img src=\"Figures/combinatoria.png\" alt=\"Drawing\" style=\"width: 600px;\"/>\n"
   ]
  },
  {
   "cell_type": "markdown",
   "metadata": {},
   "source": [
    "### 4.3 Probabilidad Bayesiana\n",
    "\n",
    "<img src=\"Figures/content_bayes.jpg\" alt=\"Drawing\" style=\"width: 300px;\"/>"
   ]
  },
  {
   "cell_type": "markdown",
   "metadata": {},
   "source": [
    "La fórmula de Bayes sirve para computar **probabilidades condicionales**, es decir para calcular **probabilidades posteriores** a partir de observaciones\n",
    "\n",
    "$$ P(H | E) = \\frac{P(E | H)P(H)}{P(E)}$$\n",
    "\n",
    "La estadística Bayesiana interpreta las probabilidades como medidas de confianza en un evento, no a partir de la frecuencia en que este evento ocurre a largo plazo.\n",
    "\n",
    "Muchas veces, la formula se interpreta como una **actualización de la creencia** sobre unos datos observados."
   ]
  },
  {
   "cell_type": "markdown",
   "metadata": {},
   "source": [
    "<b> Bayes Theorem </b> <br>\n",
    "$$ P(A | B) = \\frac{P(B | A)P(A)}{P(B)}$$\n",
    "</div>   \n",
    "\n",
    "\n",
    "Describe la probabilidad condicional entre dos eventos.\n",
    "\n",
    "Es fácilmente demostrable:\n",
    "\n",
    "+ Sabemos que $ P(A \\mbox{ and } B) = P(A)P(B | A) $.\n",
    "+ Tambien tenemos $ P(A \\mbox{ and } B) = P(B)P(A | B)$.\n",
    "+ Juntando, $ P(A)P(B | A) = P(B)P(A | B)$. "
   ]
  },
  {
   "cell_type": "markdown",
   "metadata": {},
   "source": [
    "### Explicación de la fórmula.\n",
    "\n",
    "La manera más usual de interpretarla es pensadno que $A$ es una hipotesis $H$, y $B$ es una evidencia $E$ que nos puede hacer cambiar nuestra creencia sobre $H$.\n",
    "\n",
    "$$P(H | E) = P(H) \\frac{P(E|H)}{P(E)}$$\n",
    "\n",
    "Con cada nueva prueba o dato podremos actualizar la formula*. \n",
    "\n",
    "\n",
    "+ $P(H | E)$ es conocida como **posterior**.\n",
    "+ $P(H)$ llamada **prior probability** de la hipotesis.\n",
    "+ $P(E | H)$ llamada **likelihood** de la evidencia o datos.\n",
    "+ $P(E)$ normaliza. Si tenemos $n$ hipotesis *mutuamente exclusivas* y *collectivelly exhaustive*, podemos calcular $P(E)$ as:\n",
    "\n",
    "$$ P(E) = P(H_1)P(E|H_1) + \\dots + P(H_n)P(E|H_n)$$\n",
    "\n",
    "\n",
    "En general, $P(H | E), P(H), P(E|H), P(E)$ son funciones!"
   ]
  },
  {
   "cell_type": "markdown",
   "metadata": {},
   "source": [
    "### Visualización y ejemplo\n",
    "\n",
    "https://www.youtube.com/watch?v=D8VZqxcu0I0\n",
    "\n",
    "https://www.youtube.com/watch?v=R13BD8qKeTg"
   ]
  },
  {
   "cell_type": "markdown",
   "metadata": {},
   "source": [
    "## Bayesian Estimation\n",
    "\n",
    "\n",
    "**El problema de los tanques en la II Guerra Mundial**\n",
    "\n",
    "Los tanques alemanes estan enumerados  $1 \\dots N$. Un soldado aliado ve un tanque con el número 60, cuántos tanques tiene Alemania?\n",
    "\n",
    "> *(Fuente: http://greenteapress.com/thinkbayes/html/thinkbayes004.html#toc24)*\n",
    "\n",
    "Sabemos que tendrá 60 o más, pero cuántos más?\n",
    "\n",
    "Aplicando estadística Bayesana, podemos partir el problema en dos partes:\n",
    "\n",
    "+ Qué sabíamos de $N$ antes de los nuevos datos?  **prior** $P(H)$\n",
    "+ Para un valor de $N$, cuál es la *likelihood* de ver un tanque con el número $N$? **likelihood** $P(E|H)$.\n",
    "\n",
    "Como no tenemos información para calcular el **prior** podemos asumir un valor del 1 al 1000 constante\n"
   ]
  },
  {
   "cell_type": "code",
   "execution_count": 41,
   "metadata": {},
   "outputs": [
    {
     "data": {
      "image/png": "[encoded data removed]",
      "text/plain": [
       "<Figure size 720x144 with 1 Axes>"
      ]
     },
     "metadata": {},
     "output_type": "display_data"
    }
   ],
   "source": [
    "%matplotlib inline\n",
    "import numpy as np\n",
    "import matplotlib.pyplot as plt\n",
    "\n",
    "hypos = np.array(range(1, 1001))\n",
    "priors = np.array([1.0/len(hypos) for hypo in hypos])\n",
    "\n",
    "with plt.style.context('fivethirtyeight'):\n",
    "    plt.figure(figsize=(10,2))\n",
    "    plt.plot(hypos, priors)\n",
    "plt.show()"
   ]
  },
  {
   "cell_type": "markdown",
   "metadata": {},
   "source": [
    "Ahora calculamos la función de **likelihood**, $P(E|H)$. \n",
    "\n",
    "En una hipotética situación con $N$ tanques, qué probabilidad tenemos de ver el número 60?\n",
    "\n",
    "Si asumimos que solo hay un tanque con este número en todo el país y que es igual de fácil de ver cualquiera de los $N$ tanques, tenemos $1/N$ "
   ]
  },
  {
   "cell_type": "code",
   "execution_count": 42,
   "metadata": {},
   "outputs": [],
   "source": [
    "def Likelihood(data, hypo):\n",
    "    if hypo < data:\n",
    "        return 0.0\n",
    "    else:\n",
    "        return 1.0/hypo"
   ]
  },
  {
   "cell_type": "markdown",
   "metadata": {},
   "source": [
    "Vamos a calcular ahora!"
   ]
  },
  {
   "cell_type": "code",
   "execution_count": 43,
   "metadata": {},
   "outputs": [
    {
     "data": {
      "image/png": "[encoded data removed]",
      "text/plain": [
       "<Figure size 720x144 with 1 Axes>"
      ]
     },
     "metadata": {},
     "output_type": "display_data"
    }
   ],
   "source": [
    "import numpy as np\n",
    "\n",
    "def Posterior(data, hypos, priors):\n",
    "    posterior = np.array([Likelihood(data, hypo) for hypo in hypos]) * priors\n",
    "    return posterior\n",
    "\n",
    "# After an update, the distribution is no longer normalized, \n",
    "# but because these hypotheses are mutually exclusive and \n",
    "# collectively exhaustive, we can renormalize.\n",
    "\n",
    "def Normalize(d):\n",
    "    total = d.sum()\n",
    "    factor = 1.0 / total\n",
    "    for i in range(len(d)):\n",
    "        d[i] *= factor\n",
    "    return d\n",
    "\n",
    "posterior = Normalize(Posterior(60, hypos, priors))\n",
    "\n",
    "with plt.style.context('fivethirtyeight'):\n",
    "    plt.figure(figsize=(10,2))\n",
    "    plt.ylim([-0.001,0.006])\n",
    "    plt.plot(hypos, posterior)\n",
    "plt.show()"
   ]
  },
  {
   "cell_type": "markdown",
   "metadata": {},
   "source": [
    "El valor más probable es 60, pero qué número dirias tu?\n",
    "\n",
    "Si quieres maximizar la probabilidad de acertar el número deberías decir 60, pero en nuestro caso nos puede interesar más decir el valor medio de la distribución de **posteriors**"
   ]
  },
  {
   "cell_type": "code",
   "execution_count": 44,
   "metadata": {},
   "outputs": [
    {
     "name": "stdout",
     "output_type": "stream",
     "text": [
      "333\n"
     ]
    }
   ],
   "source": [
    "def Meanp(hypos, posterior):\n",
    "    total = 0.0\n",
    "    s = hypos * posterior\n",
    "    return s.mean()*len(hypos)\n",
    "\n",
    "print(int(Meanp(hypos, posterior)))"
   ]
  },
  {
   "cell_type": "markdown",
   "metadata": {},
   "source": [
    "Si queremos mejorar nuestras prediciones, necesitamos más datos para actualizar nuestra hipotesis"
   ]
  },
  {
   "cell_type": "code",
   "execution_count": 45,
   "metadata": {},
   "outputs": [
    {
     "name": "stdout",
     "output_type": "stream",
     "text": [
      "164\n"
     ]
    },
    {
     "data": {
      "image/png": "[encoded data removed]",
      "text/plain": [
       "<Figure size 720x144 with 1 Axes>"
      ]
     },
     "metadata": {},
     "output_type": "display_data"
    }
   ],
   "source": [
    "hypos = range(1, 1001)\n",
    "posterior =  Normalize(Posterior(60, hypos, priors))\n",
    "posterior2 = Normalize(Posterior(30, hypos, posterior))\n",
    "posterior3 = Normalize(Posterior(90, hypos, posterior2))\n",
    "\n",
    "print(int(Meanp(hypos, posterior3)))\n",
    "\n",
    "with plt.style.context('fivethirtyeight'):\n",
    "    plt.figure(figsize=(10,2))\n",
    "    plt.ylim([-0.001,0.025])\n",
    "    plt.plot(hypos, posterior3)\n",
    "plt.show()"
   ]
  },
  {
   "cell_type": "code",
   "execution_count": 46,
   "metadata": {},
   "outputs": [
    {
     "name": "stdout",
     "output_type": "stream",
     "text": [
      "Media de la distribución del posterior con 1000 hipotesis:  164\n"
     ]
    },
    {
     "data": {
      "image/png": "[encoded data removed]",
      "text/plain": [
       "<Figure size 720x144 with 1 Axes>"
      ]
     },
     "metadata": {},
     "output_type": "display_data"
    }
   ],
   "source": [
    "def Normalize(d):\n",
    "    total = d.sum()\n",
    "    factor = 1.0 / total\n",
    "    for i in range(len(d)):\n",
    "        d[i] *= factor\n",
    "    return d\n",
    "\n",
    "def Likelihood1(datum, hypo):\n",
    "    if hypo < datum:\n",
    "        return 0.0\n",
    "    else:\n",
    "        return 1.0/hypo\n",
    "    \n",
    "def Posterior(datum, hypos, priors, likelihood):\n",
    "    import numpy as np\n",
    "    posterior = np.array([likelihood(datum, hypo) for hypo in hypos]) * priors\n",
    "    return posterior\n",
    "\n",
    "def Posterior_n(data, hypos, priors, likelihood):\n",
    "    p = priors\n",
    "    for d in data:\n",
    "        posterior =  Normalize(Posterior(d, hypos, p, likelihood))\n",
    "        p = posterior\n",
    "    return posterior\n",
    "\n",
    "def Meanp(hypos, posterior):\n",
    "    total = 0.0\n",
    "    s = hypos * posterior\n",
    "    return s.mean()*len(hypos)\n",
    "\n",
    "hypos = np.array(range(1, 1001))\n",
    "priors = np.array([1.0/len(hypos) for hypo in hypos])\n",
    "posteriors = Posterior_n([60,30,90], hypos, priors, Likelihood1)\n",
    "\n",
    "print('Media de la distribución del posterior con 1000 hipotesis: ', \\\n",
    "        int(Meanp(hypos, posteriors)))\n",
    "\n",
    "with plt.style.context('fivethirtyeight'):\n",
    "    plt.figure(figsize=(10,2))\n",
    "    plt.ylim([-0.001,0.025])\n",
    "    plt.plot(hypos, posteriors)\n",
    "plt.show()"
   ]
  },
  {
   "cell_type": "code",
   "execution_count": null,
   "metadata": {},
   "outputs": [],
   "source": []
  },
  {
   "cell_type": "code",
   "execution_count": null,
   "metadata": {},
   "outputs": [],
   "source": []
  }
 ],
 "metadata": {
  "kernelspec": {
   "display_name": "Python 3",
   "language": "python",
   "name": "python3"
  },
  "language_info": {
   "codemirror_mode": {
    "name": "ipython",
    "version": 3
   },
   "file_extension": ".py",
   "mimetype": "text/x-python",
   "name": "python",
   "nbconvert_exporter": "python",
   "pygments_lexer": "ipython3",
   "version": "3.7.4"
  },
  "widgets": {
   "state": {},
   "version": "1.1.1"
  }
 },
 "nbformat": 4,
 "nbformat_minor": 1
}
