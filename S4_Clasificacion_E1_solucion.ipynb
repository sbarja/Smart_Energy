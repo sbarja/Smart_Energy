{
 "cells": [
  {
   "cell_type": "markdown",
   "metadata": {},
   "source": [
    "<img src=\"Figures/top_ML.png\" alt=\"Drawing\" style=\"width: 1000px;\"/>"
   ]
  },
  {
   "cell_type": "markdown",
   "metadata": {},
   "source": [
    "# Sesión 4. Ejercicio de aprendizaje supervisado: clasificación.\n",
    "\n",
    "## *Clasificación binaria de precios de electricidad en el Mercado Diario.*"
   ]
  },
  {
   "cell_type": "markdown",
   "metadata": {},
   "source": [
    "**Objetivo:** predecir en qué horas el precio de la electricidad en el Mercado Diario será elevado, siendo la **clase 0** para valores menores al cuartil superior Q3, y **clase 1** para valores mayores al cuartil superior Q3 (precio electricidad > Q3 = 59 €/MWh).  Se utilizarán datos históricos de la variable target que queremos clasificar y de otros atributos (features) que pueden ayudar a predecir modelo.\n",
    "\n",
    "\n",
    "**Contexto:** Una empresa que compre energía directamente en el mercado diario, quiere conocer el día anterior en que franjas horarias del dia siguiente el coste de la electricidad va a ser excesivamente elevado. Así pueden re-organizar (si es pobible) el consumo de las cargas o descargar baterías durante esas horas, reduciendo el coste de la factura eléctrica.\n",
    "\n",
    "### Antes de empezar:\n",
    "\n",
    "* En el archivo **S4_datos_E1_categoricaldata.csv** se encuentra el conjunto de datos de entrada de este ejemplo (atributos + etiqueta). \n",
    "* El histórico de datos va desde 01/01/2018 hasta 16/06/2020.\n"
   ]
  },
  {
   "cell_type": "markdown",
   "metadata": {},
   "source": [
    "## **1. Importar librerías y datos**\n"
   ]
  },
  {
   "cell_type": "code",
   "execution_count": 84,
   "metadata": {},
   "outputs": [],
   "source": [
    "# Importamos las librerías\n",
    "import sklearn\n",
    "import pandas as pd\n",
    "import matplotlib.pyplot as plt\n",
    "import numpy as np\n",
    "\n",
    "# Cargamos el conjunto de datos de entrada\n",
    "dataset = pd.read_csv('Data/S4_datos_E1_categoricaldata.csv', delimiter=';')"
   ]
  },
  {
   "cell_type": "markdown",
   "metadata": {},
   "source": [
    "## **2. Comprender los datos**\n",
    "\n",
    "Es necesario visualizar y comprender los datos con los que vamos a trabajar, así como conocer sus características. \n",
    "\n",
    "1. ¿Cuántos datos hay? ¿Cuántos atributos hay en los datos?  \n",
    "2. ¿Qué significan?\n",
    "3. ¿Falta algún dato?\n",
    "4. ¿Están balanceadas las etiquetas? \n",
    "4. Resumen estadístico del conjunto de datos de entrada."
   ]
  },
  {
   "cell_type": "markdown",
   "metadata": {},
   "source": [
    "**1. ¿Cuántos datos hay?**  Hay 21839 filas y 11 columnas en total.  **¿Cuántos atributos hay en los datos?** Existen 10 atributos y 1 etiqueta."
   ]
  },
  {
   "cell_type": "code",
   "execution_count": 85,
   "metadata": {},
   "outputs": [
    {
     "data": {
      "text/plain": [
       "(21839, 11)"
      ]
     },
     "execution_count": 85,
     "metadata": {},
     "output_type": "execute_result"
    }
   ],
   "source": [
    "# Filasxcolumnas de los datos\n",
    "dataset.shape\n"
   ]
  },
  {
   "cell_type": "code",
   "execution_count": 86,
   "metadata": {},
   "outputs": [
    {
     "data": {
      "text/html": [
       "<div>\n",
       "<style scoped>\n",
       "    .dataframe tbody tr th:only-of-type {\n",
       "        vertical-align: middle;\n",
       "    }\n",
       "\n",
       "    .dataframe tbody tr th {\n",
       "        vertical-align: top;\n",
       "    }\n",
       "\n",
       "    .dataframe thead th {\n",
       "        text-align: right;\n",
       "    }\n",
       "</style>\n",
       "<table border=\"1\" class=\"dataframe\">\n",
       "  <thead>\n",
       "    <tr style=\"text-align: right;\">\n",
       "      <th></th>\n",
       "      <th>Hora</th>\n",
       "      <th>Mes</th>\n",
       "      <th>Hidraul</th>\n",
       "      <th>Eolica</th>\n",
       "      <th>Demanda</th>\n",
       "      <th>Ciclocomb</th>\n",
       "      <th>Cogener</th>\n",
       "      <th>Nuclear</th>\n",
       "      <th>Carbon</th>\n",
       "      <th>Biomas</th>\n",
       "      <th>Clases</th>\n",
       "    </tr>\n",
       "  </thead>\n",
       "  <tbody>\n",
       "    <tr>\n",
       "      <th>0</th>\n",
       "      <td>0</td>\n",
       "      <td>1</td>\n",
       "      <td>1061.0</td>\n",
       "      <td>12613.0</td>\n",
       "      <td>19596.0</td>\n",
       "      <td>1322.6</td>\n",
       "      <td>2099.9</td>\n",
       "      <td>7101.5</td>\n",
       "      <td>773.0</td>\n",
       "      <td>352</td>\n",
       "      <td>normal_price</td>\n",
       "    </tr>\n",
       "    <tr>\n",
       "      <th>1</th>\n",
       "      <td>1</td>\n",
       "      <td>1</td>\n",
       "      <td>1073.0</td>\n",
       "      <td>11423.1</td>\n",
       "      <td>18027.1</td>\n",
       "      <td>1322.6</td>\n",
       "      <td>2087.4</td>\n",
       "      <td>7102.5</td>\n",
       "      <td>772.0</td>\n",
       "      <td>226</td>\n",
       "      <td>normal_price</td>\n",
       "    </tr>\n",
       "    <tr>\n",
       "      <th>2</th>\n",
       "      <td>2</td>\n",
       "      <td>1</td>\n",
       "      <td>932.8</td>\n",
       "      <td>11052.1</td>\n",
       "      <td>17202.5</td>\n",
       "      <td>1322.6</td>\n",
       "      <td>2124.9</td>\n",
       "      <td>7102.5</td>\n",
       "      <td>701.0</td>\n",
       "      <td>469</td>\n",
       "      <td>normal_price</td>\n",
       "    </tr>\n",
       "    <tr>\n",
       "      <th>3</th>\n",
       "      <td>3</td>\n",
       "      <td>1</td>\n",
       "      <td>889.7</td>\n",
       "      <td>8176.0</td>\n",
       "      <td>16788.2</td>\n",
       "      <td>1149.6</td>\n",
       "      <td>2123.0</td>\n",
       "      <td>7102.5</td>\n",
       "      <td>521.0</td>\n",
       "      <td>439</td>\n",
       "      <td>normal_price</td>\n",
       "    </tr>\n",
       "    <tr>\n",
       "      <th>4</th>\n",
       "      <td>4</td>\n",
       "      <td>1</td>\n",
       "      <td>869.6</td>\n",
       "      <td>7748.0</td>\n",
       "      <td>16438.7</td>\n",
       "      <td>1149.6</td>\n",
       "      <td>2119.8</td>\n",
       "      <td>7102.5</td>\n",
       "      <td>521.0</td>\n",
       "      <td>459</td>\n",
       "      <td>normal_price</td>\n",
       "    </tr>\n",
       "  </tbody>\n",
       "</table>\n",
       "</div>"
      ],
      "text/plain": [
       "   Hora  Mes  Hidraul   Eolica  Demanda  Ciclocomb  Cogener  Nuclear  Carbon  \\\n",
       "0     0    1   1061.0  12613.0  19596.0     1322.6   2099.9   7101.5   773.0   \n",
       "1     1    1   1073.0  11423.1  18027.1     1322.6   2087.4   7102.5   772.0   \n",
       "2     2    1    932.8  11052.1  17202.5     1322.6   2124.9   7102.5   701.0   \n",
       "3     3    1    889.7   8176.0  16788.2     1149.6   2123.0   7102.5   521.0   \n",
       "4     4    1    869.6   7748.0  16438.7     1149.6   2119.8   7102.5   521.0   \n",
       "\n",
       "   Biomas        Clases  \n",
       "0     352  normal_price  \n",
       "1     226  normal_price  \n",
       "2     469  normal_price  \n",
       "3     439  normal_price  \n",
       "4     459  normal_price  "
      ]
     },
     "execution_count": 86,
     "metadata": {},
     "output_type": "execute_result"
    }
   ],
   "source": [
    "# Observa las primeras 5 filas de los datos\n",
    "dataset.head()"
   ]
  },
  {
   "cell_type": "markdown",
   "metadata": {},
   "source": [
    "**2. ¿Qué significan?** \n",
    "* ***[Hora, Mes]*** Hora y mes de cada una de las observaciones. Son valores enteros *int64*.\n",
    "\n",
    "* ***[Hidraul, Eolica, Ciclocomb, Cogener, Nuclear, Carbon, Biomas]*** se refiere a la energía programada horaria del programa PVP en el mercado diario por tipo de producción.  Son valores reales *float*.\n",
    "\n",
    "* ***[Demanda]*** es la totalidad de energía programada en el mercado diario eléctrico en España.  Son valores reales *float*.\n",
    "\n",
    "* ***[Clases]*** son las etiquetas de precio que queremos predecir. Son valores enteros *int64*.\n",
    "\n",
    "\n"
   ]
  },
  {
   "cell_type": "code",
   "execution_count": 87,
   "metadata": {},
   "outputs": [
    {
     "data": {
      "text/plain": [
       "Hora           int64\n",
       "Mes            int64\n",
       "Hidraul      float64\n",
       "Eolica       float64\n",
       "Demanda      float64\n",
       "Ciclocomb    float64\n",
       "Cogener      float64\n",
       "Nuclear      float64\n",
       "Carbon       float64\n",
       "Biomas         int64\n",
       "Clases        object\n",
       "dtype: object"
      ]
     },
     "execution_count": 87,
     "metadata": {},
     "output_type": "execute_result"
    }
   ],
   "source": [
    "# Formato de los datos\n",
    "dataset.dtypes"
   ]
  },
  {
   "cell_type": "markdown",
   "metadata": {},
   "source": [
    "**3. ¿Falta algún dato? De ser así, indica cuántos y en que atributo** \n",
    "\n",
    "* Sí, hay 14 missing data en los atributos Demanda y Carbon.  \n"
   ]
  },
  {
   "cell_type": "code",
   "execution_count": 88,
   "metadata": {},
   "outputs": [
    {
     "data": {
      "text/plain": [
       "Hora         0\n",
       "Mes          0\n",
       "Hidraul      0\n",
       "Eolica       0\n",
       "Demanda      7\n",
       "Ciclocomb    0\n",
       "Cogener      0\n",
       "Nuclear      0\n",
       "Carbon       7\n",
       "Biomas       0\n",
       "Clases       0\n",
       "dtype: int64"
      ]
     },
     "execution_count": 88,
     "metadata": {},
     "output_type": "execute_result"
    }
   ],
   "source": [
    "# Comprobar si falta algún dato y en qué atributo\n",
    "dataset.isna().sum()"
   ]
  },
  {
   "cell_type": "markdown",
   "metadata": {},
   "source": [
    "**4. ¿Están balanceadas las etiquetas?** Existe un desbalance de las etiquetas. La etiqueta 0 abarca un 75% de las muestras, mientras que la 1, un 25%. "
   ]
  },
  {
   "cell_type": "code",
   "execution_count": 89,
   "metadata": {},
   "outputs": [
    {
     "name": "stdout",
     "output_type": "stream",
     "text": [
      "normal_price       16453\n",
      "very_high_price     5386\n",
      "Name: Clases, dtype: int64\n"
     ]
    },
    {
     "data": {
      "text/plain": [
       "<matplotlib.axes._subplots.AxesSubplot at 0x23d3cfe2630>"
      ]
     },
     "execution_count": 89,
     "metadata": {},
     "output_type": "execute_result"
    },
    {
     "data": {
      "image/png": "[encoded data removed]",
      "text/plain": [
       "<Figure size 432x288 with 1 Axes>"
      ]
     },
     "metadata": {},
     "output_type": "display_data"
    }
   ],
   "source": [
    "# Comprobar si las etiquetas están desvalanceadas\n",
    "balance_clases = dataset['Clases'].value_counts()\n",
    "print(balance_clases)\n",
    "\n",
    "# Gráfico del balance de clases\n",
    "balance_clases.plot.pie()"
   ]
  },
  {
   "cell_type": "markdown",
   "metadata": {},
   "source": [
    "**5. Resumen estadístico del conjunto de datos de entrada:** La estadística descriptiva recolecta y analiza el conjunto de datos de entrada con el objetivo de describir las características y comportamientos de este conjunto mediante las siguientes medidas resumen: número total de observaciones (count), media (mean), desviación estándar (std), valor mínimo (min), valor máximo (max) y los valores de los diferentes cuartiles (25%, 50%, 75%)."
   ]
  },
  {
   "cell_type": "code",
   "execution_count": 90,
   "metadata": {},
   "outputs": [
    {
     "data": {
      "text/html": [
       "<div>\n",
       "<style scoped>\n",
       "    .dataframe tbody tr th:only-of-type {\n",
       "        vertical-align: middle;\n",
       "    }\n",
       "\n",
       "    .dataframe tbody tr th {\n",
       "        vertical-align: top;\n",
       "    }\n",
       "\n",
       "    .dataframe thead th {\n",
       "        text-align: right;\n",
       "    }\n",
       "</style>\n",
       "<table border=\"1\" class=\"dataframe\">\n",
       "  <thead>\n",
       "    <tr style=\"text-align: right;\">\n",
       "      <th></th>\n",
       "      <th>Hora</th>\n",
       "      <th>Mes</th>\n",
       "      <th>Hidraul</th>\n",
       "      <th>Eolica</th>\n",
       "      <th>Demanda</th>\n",
       "      <th>Ciclocomb</th>\n",
       "      <th>Cogener</th>\n",
       "      <th>Nuclear</th>\n",
       "      <th>Carbon</th>\n",
       "      <th>Biomas</th>\n",
       "    </tr>\n",
       "  </thead>\n",
       "  <tbody>\n",
       "    <tr>\n",
       "      <th>count</th>\n",
       "      <td>21839.000000</td>\n",
       "      <td>21839.000000</td>\n",
       "      <td>21839.000000</td>\n",
       "      <td>21839.000000</td>\n",
       "      <td>21832.000000</td>\n",
       "      <td>21839.000000</td>\n",
       "      <td>21839.000000</td>\n",
       "      <td>21839.000000</td>\n",
       "      <td>21832.000000</td>\n",
       "      <td>21839.000000</td>\n",
       "    </tr>\n",
       "    <tr>\n",
       "      <th>mean</th>\n",
       "      <td>11.500435</td>\n",
       "      <td>5.971610</td>\n",
       "      <td>2679.638853</td>\n",
       "      <td>6181.908673</td>\n",
       "      <td>21120.698085</td>\n",
       "      <td>2942.060937</td>\n",
       "      <td>3290.924182</td>\n",
       "      <td>6197.929580</td>\n",
       "      <td>1935.312917</td>\n",
       "      <td>374.314895</td>\n",
       "    </tr>\n",
       "    <tr>\n",
       "      <th>std</th>\n",
       "      <td>6.922205</td>\n",
       "      <td>5.390028</td>\n",
       "      <td>1560.976734</td>\n",
       "      <td>3393.844900</td>\n",
       "      <td>3731.703625</td>\n",
       "      <td>2643.533966</td>\n",
       "      <td>285.520077</td>\n",
       "      <td>930.955569</td>\n",
       "      <td>1911.238184</td>\n",
       "      <td>102.293626</td>\n",
       "    </tr>\n",
       "    <tr>\n",
       "      <th>min</th>\n",
       "      <td>0.000000</td>\n",
       "      <td>1.000000</td>\n",
       "      <td>276.200000</td>\n",
       "      <td>515.900000</td>\n",
       "      <td>11950.400000</td>\n",
       "      <td>157.000000</td>\n",
       "      <td>1825.500000</td>\n",
       "      <td>3410.200000</td>\n",
       "      <td>0.000000</td>\n",
       "      <td>197.000000</td>\n",
       "    </tr>\n",
       "    <tr>\n",
       "      <th>25%</th>\n",
       "      <td>6.000000</td>\n",
       "      <td>3.000000</td>\n",
       "      <td>1414.100000</td>\n",
       "      <td>3553.450000</td>\n",
       "      <td>18158.550000</td>\n",
       "      <td>1100.100000</td>\n",
       "      <td>3124.300000</td>\n",
       "      <td>5316.550000</td>\n",
       "      <td>535.000000</td>\n",
       "      <td>286.000000</td>\n",
       "    </tr>\n",
       "    <tr>\n",
       "      <th>50%</th>\n",
       "      <td>12.000000</td>\n",
       "      <td>6.000000</td>\n",
       "      <td>2311.100000</td>\n",
       "      <td>5493.000000</td>\n",
       "      <td>21026.200000</td>\n",
       "      <td>1806.500000</td>\n",
       "      <td>3321.300000</td>\n",
       "      <td>6374.800000</td>\n",
       "      <td>981.000000</td>\n",
       "      <td>375.000000</td>\n",
       "    </tr>\n",
       "    <tr>\n",
       "      <th>75%</th>\n",
       "      <td>17.500000</td>\n",
       "      <td>9.000000</td>\n",
       "      <td>3716.450000</td>\n",
       "      <td>8253.000000</td>\n",
       "      <td>23863.625000</td>\n",
       "      <td>4039.850000</td>\n",
       "      <td>3490.300000</td>\n",
       "      <td>7024.600000</td>\n",
       "      <td>3135.000000</td>\n",
       "      <td>462.000000</td>\n",
       "    </tr>\n",
       "    <tr>\n",
       "      <th>max</th>\n",
       "      <td>23.000000</td>\n",
       "      <td>584.000000</td>\n",
       "      <td>8504.300000</td>\n",
       "      <td>18996.300000</td>\n",
       "      <td>35458.900000</td>\n",
       "      <td>13789.200000</td>\n",
       "      <td>3936.100000</td>\n",
       "      <td>7115.400000</td>\n",
       "      <td>7465.100000</td>\n",
       "      <td>551.000000</td>\n",
       "    </tr>\n",
       "  </tbody>\n",
       "</table>\n",
       "</div>"
      ],
      "text/plain": [
       "               Hora           Mes       Hidraul        Eolica       Demanda  \\\n",
       "count  21839.000000  21839.000000  21839.000000  21839.000000  21832.000000   \n",
       "mean      11.500435      5.971610   2679.638853   6181.908673  21120.698085   \n",
       "std        6.922205      5.390028   1560.976734   3393.844900   3731.703625   \n",
       "min        0.000000      1.000000    276.200000    515.900000  11950.400000   \n",
       "25%        6.000000      3.000000   1414.100000   3553.450000  18158.550000   \n",
       "50%       12.000000      6.000000   2311.100000   5493.000000  21026.200000   \n",
       "75%       17.500000      9.000000   3716.450000   8253.000000  23863.625000   \n",
       "max       23.000000    584.000000   8504.300000  18996.300000  35458.900000   \n",
       "\n",
       "          Ciclocomb       Cogener       Nuclear        Carbon        Biomas  \n",
       "count  21839.000000  21839.000000  21839.000000  21832.000000  21839.000000  \n",
       "mean    2942.060937   3290.924182   6197.929580   1935.312917    374.314895  \n",
       "std     2643.533966    285.520077    930.955569   1911.238184    102.293626  \n",
       "min      157.000000   1825.500000   3410.200000      0.000000    197.000000  \n",
       "25%     1100.100000   3124.300000   5316.550000    535.000000    286.000000  \n",
       "50%     1806.500000   3321.300000   6374.800000    981.000000    375.000000  \n",
       "75%     4039.850000   3490.300000   7024.600000   3135.000000    462.000000  \n",
       "max    13789.200000   3936.100000   7115.400000   7465.100000    551.000000  "
      ]
     },
     "execution_count": 90,
     "metadata": {},
     "output_type": "execute_result"
    }
   ],
   "source": [
    "# Datos estadísticos de cada uno de los atributos\n",
    "dataset.describe()"
   ]
  },
  {
   "cell_type": "markdown",
   "metadata": {},
   "source": [
    "## **3. Visualizar los datos**\n",
    "\n",
    "Una manera visual de entender los datos de entrada. \n",
    "1. Histograma\n",
    "2. Curva de densidad\n",
    "3. Boxplots\n",
    "4. Matriz de correlación\n"
   ]
  },
  {
   "cell_type": "markdown",
   "metadata": {},
   "source": [
    "**1. Histograma**\n",
    "\n",
    "Respresentación gráfica de cada uno de los atributos en forma de barras, donde la superficie de la barra es proporcional a la frecuencia de los valores representados."
   ]
  },
  {
   "cell_type": "code",
   "execution_count": 91,
   "metadata": {},
   "outputs": [
    {
     "data": {
      "image/png": "[encoded data removed]",
      "text/plain": [
       "<Figure size 720x720 with 12 Axes>"
      ]
     },
     "metadata": {
      "needs_background": "light"
     },
     "output_type": "display_data"
    }
   ],
   "source": [
    "histograma = dataset.hist(xlabelsize=10, ylabelsize=10, bins=100, figsize=(10, 10))"
   ]
  },
  {
   "cell_type": "markdown",
   "metadata": {},
   "source": [
    "**2. Gráfico de densidades**\n",
    "\n",
    "Visualiza la distribución de los datos. Es una variable del histograma, pero elimina el ruido, por lo que son mejores para determinar la forma de distribución de un atributo. Lo spicos del gráfico de densidad ayudan a mostrar dónde los valores se concentran más. "
   ]
  },
  {
   "cell_type": "code",
   "execution_count": 10,
   "metadata": {},
   "outputs": [
    {
     "data": {
      "image/png": "[encoded data removed]",
      "text/plain": [
       "<Figure size 720x720 with 12 Axes>"
      ]
     },
     "metadata": {
      "needs_background": "light"
     },
     "output_type": "display_data"
    }
   ],
   "source": [
    "density = dataset.plot(kind='kde', x=4, subplots=True, legend=True, layout=(4, 3), figsize=(10, 10), sharex=False,\n",
    "                        fontsize=8, stacked=True) "
   ]
  },
  {
   "cell_type": "markdown",
   "metadata": {},
   "source": [
    "**3. Boxplots** \n",
    "\n",
    "El boxplot (diagrama de caja) nos permite identificar los valores atípicos y comparar distribuciones. Además, se conoce como se distribuyen el 50% de los valores (dentro de la caja).\n",
    "\n",
    "* **¿Que atributo llama la atención por sus valores atípicos?** El atributo mes. "
   ]
  },
  {
   "cell_type": "code",
   "execution_count": 11,
   "metadata": {},
   "outputs": [
    {
     "data": {
      "image/png": "[encoded data removed]",
      "text/plain": [
       "<Figure size 792x792 with 12 Axes>"
      ]
     },
     "metadata": {
      "needs_background": "light"
     },
     "output_type": "display_data"
    }
   ],
   "source": [
    "atributos_boxplot = dataset.plot(kind='box', subplots=True, layout=(4, 3), figsize=(11, 11), sharex=False,\n",
    "                                 sharey=False, fontsize=10)"
   ]
  },
  {
   "cell_type": "markdown",
   "metadata": {},
   "source": [
    "**4. Matriz de correlación** \n",
    "\n",
    "* **¿Qué variable no tiene ninguna correlación con ningún atributo?** "
   ]
  },
  {
   "cell_type": "code",
   "execution_count": 92,
   "metadata": {
    "scrolled": false
   },
   "outputs": [
    {
     "data": {
      "image/png": "[encoded data removed]",
      "text/plain": [
       "<Figure size 792x720 with 2 Axes>"
      ]
     },
     "metadata": {
      "needs_background": "light"
     },
     "output_type": "display_data"
    }
   ],
   "source": [
    "# Cálculo de coeficientes de correlación\n",
    "corr_matrix = dataset.corr(method='pearson') \n",
    "\n",
    "# Matriz de correlación\n",
    "fig = plt.figure(figsize=(11, 10))\n",
    "ax = fig.add_subplot(111)\n",
    "cax = ax.matshow(corr_matrix, vmin=-1, vmax=1)\n",
    "fig.colorbar(cax)\n",
    "ticks = np.arange(0, 10, 1)\n",
    "ax.set_xticks(ticks)\n",
    "ax.set_yticks(ticks)\n",
    "ax.set_xticklabels(corr_matrix.columns)\n",
    "ax.set_yticklabels(corr_matrix.columns)\n",
    "plt.show()"
   ]
  },
  {
   "cell_type": "markdown",
   "metadata": {},
   "source": [
    "## *4. Preparar los datos*\n",
    "\n",
    "1. Missing data\n",
    "2. Data cleaning (eliminar outliers).\n",
    "3. LabelEncoding\n",
    "4. Feature engineering\n",
    "5. Transformación (escalado)."
   ]
  },
  {
   "cell_type": "markdown",
   "metadata": {},
   "source": [
    "Primero, divido los datos en **atributos**: X (features) y **etiquetas**: y (target)"
   ]
  },
  {
   "cell_type": "code",
   "execution_count": 93,
   "metadata": {},
   "outputs": [],
   "source": [
    "# Atributos X (features); etiquetas y (target)\n",
    "X = dataset.drop(['Clases'], axis=1) \n",
    "y = dataset['Clases']"
   ]
  },
  {
   "cell_type": "markdown",
   "metadata": {},
   "source": [
    "**1. Missing data**\n",
    "\n",
    "* Comprobar si hay missing data. \n",
    "* **Si faltan datos, completa las casillas vacias con el valor medido anterior del atributo**: utiliza *X[\"Columna\"].fillna(method='ffill', inplace=True)*\n",
    "\n",
    "\n",
    "\n"
   ]
  },
  {
   "cell_type": "code",
   "execution_count": 94,
   "metadata": {},
   "outputs": [
    {
     "data": {
      "text/plain": [
       "Hora         0\n",
       "Mes          0\n",
       "Hidraul      0\n",
       "Eolica       0\n",
       "Demanda      7\n",
       "Ciclocomb    0\n",
       "Cogener      0\n",
       "Nuclear      0\n",
       "Carbon       7\n",
       "Biomas       0\n",
       "dtype: int64"
      ]
     },
     "execution_count": 94,
     "metadata": {},
     "output_type": "execute_result"
    }
   ],
   "source": [
    "# Comprobar si faltan datos en los atributos\n",
    "X.isna().sum()"
   ]
  },
  {
   "cell_type": "code",
   "execution_count": 95,
   "metadata": {
    "scrolled": true
   },
   "outputs": [],
   "source": [
    "# Relleno los missing values de cada atributo con el valor anterior del atributo. \n",
    "X[\"Demanda\"].fillna(method='ffill', inplace=True)\n",
    "X[\"Carbon\"].fillna(method='ffill', inplace=True)"
   ]
  },
  {
   "cell_type": "code",
   "execution_count": 96,
   "metadata": {},
   "outputs": [
    {
     "data": {
      "text/plain": [
       "0"
      ]
     },
     "execution_count": 96,
     "metadata": {},
     "output_type": "execute_result"
    }
   ],
   "source": [
    "# Comprobar si faltan datos en el target\n",
    "y.isna().sum()"
   ]
  },
  {
   "cell_type": "code",
   "execution_count": 97,
   "metadata": {},
   "outputs": [
    {
     "data": {
      "text/plain": [
       "Hora         0\n",
       "Mes          0\n",
       "Hidraul      0\n",
       "Eolica       0\n",
       "Demanda      0\n",
       "Ciclocomb    0\n",
       "Cogener      0\n",
       "Nuclear      0\n",
       "Carbon       0\n",
       "Biomas       0\n",
       "dtype: int64"
      ]
     },
     "execution_count": 97,
     "metadata": {},
     "output_type": "execute_result"
    }
   ],
   "source": [
    "# Comprueba que no falta ningún valor\n",
    "X.isna().sum()"
   ]
  },
  {
   "cell_type": "markdown",
   "metadata": {},
   "source": [
    "**2. Data cleaning (eliminar outliers)**\n",
    "\n",
    "Eliminar los outliers del atributo. "
   ]
  },
  {
   "cell_type": "code",
   "execution_count": 98,
   "metadata": {},
   "outputs": [
    {
     "name": "stdout",
     "output_type": "stream",
     "text": [
      "Cuartil 1 (Q1 = 3) ; Cuartil 3 (Q3 = 9)\n",
      "(array([  613,  9527, 10892, 11948, 15379, 18301, 21582], dtype=int64),)\n"
     ]
    }
   ],
   "source": [
    "import numpy as np\n",
    "\n",
    "Q1, Q3 = np.percentile(X['Mes'], [25, 75])\n",
    "print('Cuartil 1 (Q1 = %d) ; Cuartil 3 (Q3 = %d)' %(Q1, Q3))\n",
    "iqr = Q3 - Q1\n",
    "limite_inferior = Q1 - (iqr * 1.5)\n",
    "limite_superior = Q3 + (iqr * 1.5)\n",
    "filas_outliers = np.where((X['Mes'] > limite_superior) | (X['Mes'] < limite_inferior))\n",
    "print(filas_outliers)\n",
    "\n",
    "# Eliminar las filas donde existen estos outliers:\n",
    "X_sinoutliers = X.drop(X.index[filas_outliers],axis=0)\n",
    "y_sinoutliers = y.drop(X.index[filas_outliers],axis=0)\n",
    "# Imprimir las filas que resultan ahora."
   ]
  },
  {
   "cell_type": "code",
   "execution_count": 99,
   "metadata": {},
   "outputs": [
    {
     "data": {
      "text/plain": [
       "<matplotlib.axes._subplots.AxesSubplot at 0x23d3d105198>"
      ]
     },
     "execution_count": 99,
     "metadata": {},
     "output_type": "execute_result"
    },
    {
     "data": {
      "image/png": "[encoded data removed]",
      "text/plain": [
       "<Figure size 432x288 with 1 Axes>"
      ]
     },
     "metadata": {
      "needs_background": "light"
     },
     "output_type": "display_data"
    }
   ],
   "source": [
    "# Graficar el boxplot\n",
    "X_sinoutliers.boxplot(column=['Mes'])"
   ]
  },
  {
   "cell_type": "code",
   "execution_count": null,
   "metadata": {},
   "outputs": [],
   "source": []
  },
  {
   "cell_type": "markdown",
   "metadata": {},
   "source": [
    "**3. Label encoding** "
   ]
  },
  {
   "cell_type": "code",
   "execution_count": 111,
   "metadata": {},
   "outputs": [
    {
     "name": "stdout",
     "output_type": "stream",
     "text": [
      "['normal_price' 'very_high_price']\n",
      "[0 0 0 ... 0 0 0]\n"
     ]
    }
   ],
   "source": [
    "from sklearn.preprocessing import LabelEncoder\n",
    "\n",
    "lab_encoder = LabelEncoder() \n",
    "lab_encoder.fit(y_sinoutliers)  \n",
    "print(lab_encoder.classes_)  # Muestra las clases diferentes que hay\n",
    "\n",
    "y_numeric = lab_encoder.transform(y_sinoutliers)\n",
    "print(y_numeric)"
   ]
  },
  {
   "cell_type": "markdown",
   "metadata": {},
   "source": [
    "**3. Feature engineering**\n",
    "\n",
    "Utilizando la matriz de correlación, eliminar los atributos con una correlacion cercana a 0 con la etiqueta **\"Clases\"**. \n",
    "\n",
    "* **¿Qué atributo(s) se elimana(n)?** \n",
    "    * Biomas (0.006)"
   ]
  },
  {
   "cell_type": "code",
   "execution_count": 106,
   "metadata": {},
   "outputs": [],
   "source": [
    "# Elimino el atributo\n",
    "X_sinoutliers.drop(['Biomas'], axis='columns', inplace=True)"
   ]
  },
  {
   "cell_type": "markdown",
   "metadata": {},
   "source": [
    "**4. Transformación (escalado)**. \n",
    "\n",
    "* **Escalar los datos utilizando el método de *MinMaxScaler()* dentro del rango [0,1].**"
   ]
  },
  {
   "cell_type": "code",
   "execution_count": 107,
   "metadata": {
    "scrolled": true
   },
   "outputs": [
    {
     "data": {
      "text/html": [
       "<div>\n",
       "<style scoped>\n",
       "    .dataframe tbody tr th:only-of-type {\n",
       "        vertical-align: middle;\n",
       "    }\n",
       "\n",
       "    .dataframe tbody tr th {\n",
       "        vertical-align: top;\n",
       "    }\n",
       "\n",
       "    .dataframe thead th {\n",
       "        text-align: right;\n",
       "    }\n",
       "</style>\n",
       "<table border=\"1\" class=\"dataframe\">\n",
       "  <thead>\n",
       "    <tr style=\"text-align: right;\">\n",
       "      <th></th>\n",
       "      <th>Hora</th>\n",
       "      <th>Mes</th>\n",
       "      <th>Hidraul</th>\n",
       "      <th>Eolica</th>\n",
       "      <th>Demanda</th>\n",
       "      <th>Ciclocomb</th>\n",
       "      <th>Cogener</th>\n",
       "      <th>Nuclear</th>\n",
       "      <th>Carbon</th>\n",
       "    </tr>\n",
       "  </thead>\n",
       "  <tbody>\n",
       "    <tr>\n",
       "      <th>0</th>\n",
       "      <td>0.000000</td>\n",
       "      <td>0.0</td>\n",
       "      <td>0.095380</td>\n",
       "      <td>0.654591</td>\n",
       "      <td>0.325227</td>\n",
       "      <td>0.085503</td>\n",
       "      <td>0.130010</td>\n",
       "      <td>0.996249</td>\n",
       "      <td>0.103549</td>\n",
       "    </tr>\n",
       "    <tr>\n",
       "      <th>1</th>\n",
       "      <td>0.043478</td>\n",
       "      <td>0.0</td>\n",
       "      <td>0.096839</td>\n",
       "      <td>0.590204</td>\n",
       "      <td>0.258489</td>\n",
       "      <td>0.085503</td>\n",
       "      <td>0.124088</td>\n",
       "      <td>0.996518</td>\n",
       "      <td>0.103415</td>\n",
       "    </tr>\n",
       "    <tr>\n",
       "      <th>2</th>\n",
       "      <td>0.086957</td>\n",
       "      <td>0.0</td>\n",
       "      <td>0.079800</td>\n",
       "      <td>0.570128</td>\n",
       "      <td>0.223413</td>\n",
       "      <td>0.085503</td>\n",
       "      <td>0.141855</td>\n",
       "      <td>0.996518</td>\n",
       "      <td>0.093904</td>\n",
       "    </tr>\n",
       "    <tr>\n",
       "      <th>3</th>\n",
       "      <td>0.130435</td>\n",
       "      <td>0.0</td>\n",
       "      <td>0.074562</td>\n",
       "      <td>0.414499</td>\n",
       "      <td>0.205789</td>\n",
       "      <td>0.072813</td>\n",
       "      <td>0.140955</td>\n",
       "      <td>0.996518</td>\n",
       "      <td>0.069791</td>\n",
       "    </tr>\n",
       "    <tr>\n",
       "      <th>4</th>\n",
       "      <td>0.173913</td>\n",
       "      <td>0.0</td>\n",
       "      <td>0.072119</td>\n",
       "      <td>0.391339</td>\n",
       "      <td>0.190922</td>\n",
       "      <td>0.072813</td>\n",
       "      <td>0.139439</td>\n",
       "      <td>0.996518</td>\n",
       "      <td>0.069791</td>\n",
       "    </tr>\n",
       "  </tbody>\n",
       "</table>\n",
       "</div>"
      ],
      "text/plain": [
       "       Hora  Mes   Hidraul    Eolica   Demanda  Ciclocomb   Cogener   Nuclear  \\\n",
       "0  0.000000  0.0  0.095380  0.654591  0.325227   0.085503  0.130010  0.996249   \n",
       "1  0.043478  0.0  0.096839  0.590204  0.258489   0.085503  0.124088  0.996518   \n",
       "2  0.086957  0.0  0.079800  0.570128  0.223413   0.085503  0.141855  0.996518   \n",
       "3  0.130435  0.0  0.074562  0.414499  0.205789   0.072813  0.140955  0.996518   \n",
       "4  0.173913  0.0  0.072119  0.391339  0.190922   0.072813  0.139439  0.996518   \n",
       "\n",
       "     Carbon  \n",
       "0  0.103549  \n",
       "1  0.103415  \n",
       "2  0.093904  \n",
       "3  0.069791  \n",
       "4  0.069791  "
      ]
     },
     "execution_count": 107,
     "metadata": {},
     "output_type": "execute_result"
    }
   ],
   "source": [
    "from sklearn.preprocessing import MinMaxScaler\n",
    "\n",
    "scaler = MinMaxScaler()\n",
    "df_scaled = X_sinoutliers.copy()\n",
    "X_scaled = pd.DataFrame(scaler.fit_transform(df_scaled))\n",
    "X_scaled.columns = df_scaled.columns\n",
    "X_scaled.head()"
   ]
  },
  {
   "cell_type": "markdown",
   "metadata": {},
   "source": [
    "## *5. Dividir los datos*\n",
    "\n",
    "Se utiliza la semilla ***randome_state=0*** para todos los ejercicios. ***Suffle=True*** indica que los datos se reparten de forma aleatoria entre entreno y prueba. Esto reduce la varianza y evita que el modelo no cree un sobreajuste (overfitting). "
   ]
  },
  {
   "cell_type": "code",
   "execution_count": 108,
   "metadata": {},
   "outputs": [],
   "source": [
    "from sklearn.model_selection import train_test_split\n",
    "\n",
    "test_size = 0.2  # porcentaje de los datos de entrada que utilizaré para validar el modelo\n",
    "\n",
    "# Divido los datos en datos de entreno, validación y prueba\n",
    "X_train, X_test, y_train, y_test = train_test_split(X_scaled, y_numeric, test_size=test_size, random_state=0,\n",
    "                                                    shuffle=True)\n",
    "\n",
    "X_train, X_val, y_train, y_val = train_test_split(X_train, y_train, test_size=test_size, random_state=0,\n",
    "                                                    shuffle=True)"
   ]
  },
  {
   "cell_type": "markdown",
   "metadata": {},
   "source": [
    "## *6. Construcción y evaluación de modelos*"
   ]
  },
  {
   "cell_type": "markdown",
   "metadata": {},
   "source": [
    "* Selecciona **balanced_accuracy** como métrica de evaluación. \n",
    "* **num_folds = 15**\n",
    "* Evalúa los siguientes algoritmos: \n",
    "    * **Logistic Regression** *LogisticRegression()*\n",
    "    * **Random Forest** *RandomForestClassifier()*\n",
    "    * **Multi-layer Perceptron**  *MLPClassifier()*\n",
    "    * **K-nearest neighbors Classifier** *KNeighborsClassifier()*\n",
    "* Recordar utilizar siempre random_state=0 para poder comparar resultados. "
   ]
  },
  {
   "cell_type": "code",
   "execution_count": 128,
   "metadata": {},
   "outputs": [],
   "source": [
    "from sklearn.linear_model import LogisticRegression\n",
    "from sklearn.ensemble import RandomForestClassifier\n",
    "from sklearn.neighbors import KNeighborsClassifier\n",
    "from sklearn.neural_network import MLPClassifier\n",
    "\n",
    "num_folds = 15\n",
    "error_metrics = {'balanced_accuracy'}\n",
    "models = {('LR', LogisticRegression()), ('MLP', MLPClassifier()), ('KNN', KNeighborsClassifier()),\n",
    "           ('RF', RandomForestClassifier())}\n",
    "\n",
    "results = [] # guarda los resultados de las métricas de evaluación\n",
    "names = []  # Nombre de cada algoritmo\n",
    "msg = []  # imprime el resumen del método de cross-validation\n"
   ]
  },
  {
   "cell_type": "markdown",
   "metadata": {},
   "source": [
    "* **¿Cuál obtiene mejores resultados?** \n",
    "* **¿Qué balanced_accuracy obtiene?** "
   ]
  },
  {
   "cell_type": "code",
   "execution_count": 129,
   "metadata": {
    "scrolled": true
   },
   "outputs": [
    {
     "name": "stdout",
     "output_type": "stream",
     "text": [
      "Métrica de evaluación:  balanced_accuracy\n",
      "Modelo  RF\n",
      "Modelo  KNN\n",
      "Modelo  LR\n",
      "Modelo  MLP\n"
     ]
    },
    {
     "name": "stderr",
     "output_type": "stream",
     "text": [
      "C:\\Users\\Sara\\Anaconda3\\lib\\site-packages\\sklearn\\neural_network\\_multilayer_perceptron.py:571: ConvergenceWarning: Stochastic Optimizer: Maximum iterations (200) reached and the optimization hasn't converged yet.\n",
      "  % self.max_iter, ConvergenceWarning)\n",
      "C:\\Users\\Sara\\Anaconda3\\lib\\site-packages\\sklearn\\neural_network\\_multilayer_perceptron.py:571: ConvergenceWarning: Stochastic Optimizer: Maximum iterations (200) reached and the optimization hasn't converged yet.\n",
      "  % self.max_iter, ConvergenceWarning)\n",
      "C:\\Users\\Sara\\Anaconda3\\lib\\site-packages\\sklearn\\neural_network\\_multilayer_perceptron.py:571: ConvergenceWarning: Stochastic Optimizer: Maximum iterations (200) reached and the optimization hasn't converged yet.\n",
      "  % self.max_iter, ConvergenceWarning)\n",
      "C:\\Users\\Sara\\Anaconda3\\lib\\site-packages\\sklearn\\neural_network\\_multilayer_perceptron.py:571: ConvergenceWarning: Stochastic Optimizer: Maximum iterations (200) reached and the optimization hasn't converged yet.\n",
      "  % self.max_iter, ConvergenceWarning)\n",
      "C:\\Users\\Sara\\Anaconda3\\lib\\site-packages\\sklearn\\neural_network\\_multilayer_perceptron.py:571: ConvergenceWarning: Stochastic Optimizer: Maximum iterations (200) reached and the optimization hasn't converged yet.\n",
      "  % self.max_iter, ConvergenceWarning)\n",
      "C:\\Users\\Sara\\Anaconda3\\lib\\site-packages\\sklearn\\neural_network\\_multilayer_perceptron.py:571: ConvergenceWarning: Stochastic Optimizer: Maximum iterations (200) reached and the optimization hasn't converged yet.\n",
      "  % self.max_iter, ConvergenceWarning)\n",
      "C:\\Users\\Sara\\Anaconda3\\lib\\site-packages\\sklearn\\neural_network\\_multilayer_perceptron.py:571: ConvergenceWarning: Stochastic Optimizer: Maximum iterations (200) reached and the optimization hasn't converged yet.\n",
      "  % self.max_iter, ConvergenceWarning)\n",
      "C:\\Users\\Sara\\Anaconda3\\lib\\site-packages\\sklearn\\neural_network\\_multilayer_perceptron.py:571: ConvergenceWarning: Stochastic Optimizer: Maximum iterations (200) reached and the optimization hasn't converged yet.\n",
      "  % self.max_iter, ConvergenceWarning)\n",
      "C:\\Users\\Sara\\Anaconda3\\lib\\site-packages\\sklearn\\neural_network\\_multilayer_perceptron.py:571: ConvergenceWarning: Stochastic Optimizer: Maximum iterations (200) reached and the optimization hasn't converged yet.\n",
      "  % self.max_iter, ConvergenceWarning)\n",
      "C:\\Users\\Sara\\Anaconda3\\lib\\site-packages\\sklearn\\neural_network\\_multilayer_perceptron.py:571: ConvergenceWarning: Stochastic Optimizer: Maximum iterations (200) reached and the optimization hasn't converged yet.\n",
      "  % self.max_iter, ConvergenceWarning)\n",
      "C:\\Users\\Sara\\Anaconda3\\lib\\site-packages\\sklearn\\neural_network\\_multilayer_perceptron.py:571: ConvergenceWarning: Stochastic Optimizer: Maximum iterations (200) reached and the optimization hasn't converged yet.\n",
      "  % self.max_iter, ConvergenceWarning)\n",
      "C:\\Users\\Sara\\Anaconda3\\lib\\site-packages\\sklearn\\neural_network\\_multilayer_perceptron.py:571: ConvergenceWarning: Stochastic Optimizer: Maximum iterations (200) reached and the optimization hasn't converged yet.\n",
      "  % self.max_iter, ConvergenceWarning)\n",
      "C:\\Users\\Sara\\Anaconda3\\lib\\site-packages\\sklearn\\neural_network\\_multilayer_perceptron.py:571: ConvergenceWarning: Stochastic Optimizer: Maximum iterations (200) reached and the optimization hasn't converged yet.\n",
      "  % self.max_iter, ConvergenceWarning)\n",
      "C:\\Users\\Sara\\Anaconda3\\lib\\site-packages\\sklearn\\neural_network\\_multilayer_perceptron.py:571: ConvergenceWarning: Stochastic Optimizer: Maximum iterations (200) reached and the optimization hasn't converged yet.\n",
      "  % self.max_iter, ConvergenceWarning)\n"
     ]
    },
    {
     "name": "stdout",
     "output_type": "stream",
     "text": [
      "[('RF', 0.9553127709649448, 0.005884843923938094), ('KNN', 0.9344060448408275, 0.005790767891508216), ('LR', 0.8708677759885489, 0.011760310109508414), ('MLP', 0.9172572498176363, 0.00900095583470988)]\n"
     ]
    },
    {
     "name": "stderr",
     "output_type": "stream",
     "text": [
      "C:\\Users\\Sara\\Anaconda3\\lib\\site-packages\\sklearn\\neural_network\\_multilayer_perceptron.py:571: ConvergenceWarning: Stochastic Optimizer: Maximum iterations (200) reached and the optimization hasn't converged yet.\n",
      "  % self.max_iter, ConvergenceWarning)\n"
     ]
    },
    {
     "data": {
      "image/png": "[encoded data removed]",
      "text/plain": [
       "<Figure size 432x288 with 1 Axes>"
      ]
     },
     "metadata": {
      "needs_background": "light"
     },
     "output_type": "display_data"
    }
   ],
   "source": [
    "from sklearn.model_selection import cross_val_score, GridSearchCV\n",
    "from sklearn.model_selection import StratifiedShuffleSplit\n",
    "\n",
    "# Entreno con validación cruzada\n",
    "for scoring in error_metrics:\n",
    "    print('Métrica de evaluación: ', scoring)\n",
    "    for name, model in models:\n",
    "        print('Modelo ', name)\n",
    "        cross_validation = StratifiedShuffleSplit(n_splits=num_folds, random_state=0)\n",
    "        cv_results = cross_val_score(model, X_train, y_train, cv=cross_validation, scoring=scoring)\n",
    "        results.append(cv_results)\n",
    "        names.append(name)\n",
    "        resume = (name, cv_results.mean(), cv_results.std())\n",
    "        msg.append(resume)\n",
    "    print(msg)\n",
    "\n",
    "    # Comparar resultados entre algoritmos\n",
    "    fig = plt.figure()\n",
    "    fig.suptitle('Comparación de algoritmos con métrica de evaluación: %s' %scoring)\n",
    "    ax = fig.add_subplot(111)\n",
    "    ax.set_xlabel('Modelos candidatos')\n",
    "    ax.set_ylabel('%s' %scoring)\n",
    "    plt.boxplot(results)\n",
    "    ax.set_xticklabels(names)\n",
    "    plt.show()\n",
    "\n",
    "    results = []\n"
   ]
  },
  {
   "cell_type": "markdown",
   "metadata": {},
   "source": [
    "## *7. Ajustar hiperparámetros*\n",
    "\n",
    "Pasos para realizar el hiperajuste de los parámetros:\n",
    "\n",
    "* Métrica para optimizar: *balanced_accuracy*\n",
    "* Definir los rangos de los parámetros de búsqueda: *params*\n",
    "* Asignar un método de validación: *StratifiedShuffleSplit* (n_splits = 10)\n",
    "* Entrenar con los datos de validación: *X_val*"
   ]
  },
  {
   "cell_type": "code",
   "execution_count": 130,
   "metadata": {},
   "outputs": [
    {
     "name": "stdout",
     "output_type": "stream",
     "text": [
      "Mejor resultado: 0.944492 utilizando los siguientes hiperparámetros {'max_features': 'auto', 'min_samples_split': 2, 'n_estimators': 600}\n"
     ]
    }
   ],
   "source": [
    "#RandomForestClassifier\n",
    "modelo = RandomForestClassifier()\n",
    "params = {\n",
    "     'n_estimators': [100, 600], #default=100\n",
    "     'min_samples_split': [2,5], #default=2\n",
    "     'max_features': ['auto','sqrt']  #default='auto'\n",
    " }\n",
    "scoring='balanced_accuracy'\n",
    "cross_validation = StratifiedShuffleSplit(n_splits=10, random_state=0)\n",
    "my_cv = cross_validation.split(X_val, y_val)\n",
    "gsearch = GridSearchCV(estimator=modelo, param_grid=params, scoring=scoring, cv=my_cv)\n",
    "gsearch.fit(X_val, y_val)\n",
    "\n",
    "print(\"Mejor resultado: %f utilizando los siguientes hiperparámetros %s\" % (gsearch.best_score_, gsearch.best_params_))\n",
    "means = gsearch.cv_results_['mean_test_score']\n",
    "stds = gsearch.cv_results_['std_test_score']\n",
    "params = gsearch.cv_results_['params']\n",
    "# for mean, stdev, param in zip(means, stds, params):\n",
    "#     print(\"%f (%f) with: %r\" % (mean, stdev, param))"
   ]
  },
  {
   "cell_type": "markdown",
   "metadata": {},
   "source": [
    "## *8. Evaluación final del modelo*\n",
    "\n"
   ]
  },
  {
   "cell_type": "markdown",
   "metadata": {},
   "source": [
    "Métricas de evaluación:\n",
    "  * 1. Matriz de confusión\n",
    "  * 2. Coeficiente de Matthews (MCC)\n",
    "  * 3. Curva ROC / AUC\n",
    "\n",
    "    \n",
    "**Entrena el modelo con los hiperparámetros óptimos encontrados en el apartado anterior y realiza las predicciones.** "
   ]
  },
  {
   "cell_type": "code",
   "execution_count": 137,
   "metadata": {},
   "outputs": [],
   "source": [
    "\n",
    "modelo_final = RandomForestClassifier(max_features='auto', min_samples_split=2,  n_estimators=600)\n",
    "modelo_final.fit(X_train,y_train)  # Se entrena al modelo RF\n",
    "y_predict = modelo_final.predict(X_test)  # Se calculan las predicciones\n",
    "\n"
   ]
  },
  {
   "cell_type": "markdown",
   "metadata": {},
   "source": [
    "**¿Qué atributos tienen más peso en el modelo?** \n",
    "\n",
    "Para el caso del Random Forest, el atributo más importante para predecir los precios es la generación de carbón, seguido de la generación hidráulica y del mes del año. En la matriz de correlación, el atributo carbón era el que tenía más correlación con la variable clase. "
   ]
  },
  {
   "cell_type": "code",
   "execution_count": 138,
   "metadata": {},
   "outputs": [
    {
     "name": "stdout",
     "output_type": "stream",
     "text": [
      "Ranking de importancia de atributos:\n",
      "1. Atributo 8 (0.487655)\n",
      "2. Atributo 2 (0.090093)\n",
      "3. Atributo 1 (0.081757)\n",
      "4. Atributo 5 (0.073070)\n",
      "5. Atributo 6 (0.064197)\n",
      "6. Atributo 7 (0.061889)\n",
      "7. Atributo 4 (0.050744)\n",
      "8. Atributo 3 (0.045898)\n",
      "9. Atributo 0 (0.044696)\n"
     ]
    }
   ],
   "source": [
    "# Imprimir la importancia de cada atributo\n",
    "importancia_atributos = gsearch.best_estimator_.feature_importances_\n",
    "\n",
    "std = np.std([tree.feature_importances_ for tree in gsearch.best_estimator_.estimators_],axis=0)\n",
    "indices = np.argsort(importancia_atributos)[::-1]\n",
    "\n",
    "# Print the feature ranking\n",
    "print(\"Ranking de importancia de atributos:\")\n",
    "for f in range(X_scaled.shape[1]):\n",
    "    print(\"%d. Atributo %d (%f)\" % (f + 1, indices[f], importancia_atributos[indices[f]]))\n"
   ]
  },
  {
   "cell_type": "markdown",
   "metadata": {},
   "source": [
    "**1. Matriz de confusión**"
   ]
  },
  {
   "cell_type": "code",
   "execution_count": 139,
   "metadata": {},
   "outputs": [
    {
     "name": "stdout",
     "output_type": "stream",
     "text": [
      "              precision    recall  f1-score   support\n",
      "\n",
      "           0       0.98      0.98      0.98      3303\n",
      "           1       0.95      0.94      0.94      1064\n",
      "\n",
      "    accuracy                           0.97      4367\n",
      "   macro avg       0.97      0.96      0.96      4367\n",
      "weighted avg       0.97      0.97      0.97      4367\n",
      "\n",
      "[[3251   52]\n",
      " [  67  997]]\n"
     ]
    }
   ],
   "source": [
    "from sklearn.metrics import confusion_matrix, classification_report, plot_confusion_matrix\n",
    "\n",
    "confusion_matrix = confusion_matrix(y_test, y_predict)\n",
    "print(classification_report(y_test, y_predict))\n",
    "print(confusion_matrix)"
   ]
  },
  {
   "cell_type": "code",
   "execution_count": 140,
   "metadata": {},
   "outputs": [
    {
     "data": {
      "image/png": "[encoded data removed]",
      "text/plain": [
       "<Figure size 432x288 with 2 Axes>"
      ]
     },
     "metadata": {
      "needs_background": "light"
     },
     "output_type": "display_data"
    }
   ],
   "source": [
    "# Gráfico no normalizado de la martiz de confusión\n",
    "\n",
    "disp = plot_confusion_matrix(modelo_final, X_test, y_test,\n",
    "                                 cmap=plt.cm.Blues, values_format = '')"
   ]
  },
  {
   "cell_type": "markdown",
   "metadata": {},
   "source": [
    "**2. Coeficiente de Matthews (MCC)**\n",
    "\n",
    "El MCC utiliza coeficientes de correlación entre -1 y +1. \n",
    "* Coeficiente +1 representa una predicción perfecta\n",
    "* Coeficiente 0 representa una predicción media aleatoria\n",
    "* Coeficiente -1 representa una predicción inversa. "
   ]
  },
  {
   "cell_type": "code",
   "execution_count": 141,
   "metadata": {},
   "outputs": [
    {
     "data": {
      "text/plain": [
       "0.92575063800918"
      ]
     },
     "execution_count": 141,
     "metadata": {},
     "output_type": "execute_result"
    }
   ],
   "source": [
    "from sklearn.metrics import matthews_corrcoef\n",
    "\n",
    "matthews_corrcoef(y_test, y_predict)"
   ]
  },
  {
   "cell_type": "markdown",
   "metadata": {},
   "source": [
    "**3. Curva ROC / AUC**\n",
    "\n",
    "* **Curva ROC**: Curva de la tasa de verdaderos positivos frente a la tasa de falsos positivos en diferentes umbrales de clasificación.\n",
    "\n",
    "* **AUC** (Area under the curve): El área bajo la curva (AUC) ROC es la probabilidad de que un clasificador tenga más seguridad de que un ejemplo positivo elegido al azar sea realmente positivo con respecto a que un ejemplo negativo elegido al azar sea positivo."
   ]
  },
  {
   "cell_type": "code",
   "execution_count": 142,
   "metadata": {},
   "outputs": [
    {
     "name": "stdout",
     "output_type": "stream",
     "text": [
      "AUC: 0.961\n"
     ]
    },
    {
     "data": {
      "image/png": "[encoded data removed]",
      "text/plain": [
       "<Figure size 432x288 with 1 Axes>"
      ]
     },
     "metadata": {
      "needs_background": "light"
     },
     "output_type": "display_data"
    }
   ],
   "source": [
    "from sklearn.metrics import roc_auc_score, plot_roc_curve, roc_curve, auc\n",
    "\n",
    "plot_roc_curve(modelo_final, X_test, y_test)\n",
    "auc = roc_auc_score(y_test, y_predict)\n",
    "print('AUC: %.3f' % auc)"
   ]
  },
  {
   "cell_type": "code",
   "execution_count": null,
   "metadata": {},
   "outputs": [],
   "source": []
  }
 ],
 "metadata": {
  "kernelspec": {
   "display_name": "Python 3",
   "language": "python",
   "name": "python3"
  },
  "language_info": {
   "codemirror_mode": {
    "name": "ipython",
    "version": 3
   },
   "file_extension": ".py",
   "mimetype": "text/x-python",
   "name": "python",
   "nbconvert_exporter": "python",
   "pygments_lexer": "ipython3",
   "version": "3.8.5"
  }
 },
 "nbformat": 4,
 "nbformat_minor": 2
}
